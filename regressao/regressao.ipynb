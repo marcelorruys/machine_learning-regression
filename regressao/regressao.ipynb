{
  "cells": [
    {
      "cell_type": "markdown",
      "metadata": {
        "id": "fQJ5CYV9Te0X"
      },
      "source": [
        "# **APRENDIZAGEM SUPERVISIONADA: REGRESSÃO**"
      ]
    },
    {
      "cell_type": "markdown",
      "metadata": {
        "id": "kXFCCsVHTtTP"
      },
      "source": [
        "Este projeto tem por objetivo desenvolver um algoritmo de Machine Learning para prever o valor do preço médio de casas em Boston. "
      ]
    },
    {
      "cell_type": "markdown",
      "metadata": {
        "id": "5ZQ2nYhQUc3G"
      },
      "source": [
        "Os dados foram extraídos do site do Kaggle:\n",
        "\n",
        "https://www.kaggle.com/schirmerchad/bostonhoustingmlnd"
      ]
    },
    {
      "cell_type": "code",
      "execution_count": null,
      "metadata": {
        "id": "nWvIcticlCs2"
      },
      "outputs": [],
      "source": [
        "import numpy as np\n",
        "import pandas as pd"
      ]
    },
    {
      "cell_type": "code",
      "execution_count": null,
      "metadata": {
        "id": "LRIrwcC8kUhT"
      },
      "outputs": [],
      "source": [
        "df = pd.read_csv('/content/housing.csv',\n",
        "                    sep=',', encoding='iso-8859-1')"
      ]
    },
    {
      "cell_type": "code",
      "execution_count": null,
      "metadata": {
        "colab": {
          "base_uri": "https://localhost:8080/",
          "height": 206
        },
        "id": "QtugliripIyp",
        "outputId": "aefeaff8-1bd3-4912-921a-2dc06098697f"
      },
      "outputs": [],
      "source": [
        "df.head()"
      ]
    },
    {
      "cell_type": "markdown",
      "metadata": {
        "id": "BxBX5HD17FZn"
      },
      "source": [
        "**Atributos previsores**\n",
        "\n",
        "RM: é o número médio de cômodos entre os imóveis no bairro.\n",
        "\n",
        "LSTAT: é a porcentagem de proprietários no bairro considerados de \"classe baixa\" (proletariado).\n",
        "\n",
        "PTRATIO: é a razão entre estudantes e professores nas escolas de ensino fundamental e médio no bairro.\n",
        "\n",
        "**Variável alvo**\n",
        "\n",
        "MEDV: valor médio das casas"
      ]
    },
    {
      "cell_type": "code",
      "execution_count": null,
      "metadata": {
        "colab": {
          "base_uri": "https://localhost:8080/"
        },
        "id": "-pOctrVgQWpa",
        "outputId": "c67df09d-155e-461d-92e6-421e1a5f6e2a"
      },
      "outputs": [],
      "source": [
        "df.shape"
      ]
    },
    {
      "cell_type": "markdown",
      "metadata": {
        "id": "HxaCUHTyTqsg"
      },
      "source": [
        "## **EXPLORAÇÃO E TRATAMENTO DOS DADOS**"
      ]
    },
    {
      "cell_type": "markdown",
      "metadata": {
        "id": "3lk5kf4eZ_sL"
      },
      "source": [
        "Valores Missing (NAN)"
      ]
    },
    {
      "cell_type": "code",
      "execution_count": null,
      "metadata": {
        "colab": {
          "base_uri": "https://localhost:8080/"
        },
        "id": "A24U7d5QYPaV",
        "outputId": "20a96792-f81e-4f3a-bd49-fcd2d836330f"
      },
      "outputs": [],
      "source": [
        "# RELAÇÃO DA QUANTIDADE\n",
        "df.isnull().sum()"
      ]
    },
    {
      "cell_type": "markdown",
      "metadata": {
        "id": "Q_4_5j4Vlz2j"
      },
      "source": [
        "**Análise dos tipos de atributos.**"
      ]
    },
    {
      "cell_type": "code",
      "execution_count": null,
      "metadata": {
        "colab": {
          "base_uri": "https://localhost:8080/"
        },
        "id": "wopAqivQXpqI",
        "outputId": "fffe3101-1baf-4fb4-e8a7-20e3a549899a"
      },
      "outputs": [],
      "source": [
        "# object: strings\n",
        "# int64: inteiros\n",
        "# float64: reais\n",
        "# complex: complexos\n",
        "df.dtypes"
      ]
    },
    {
      "cell_type": "markdown",
      "metadata": {
        "id": "GmQ0oYyVTYOv"
      },
      "source": [
        "**Dados Estatísticos**"
      ]
    },
    {
      "cell_type": "code",
      "execution_count": null,
      "metadata": {
        "colab": {
          "base_uri": "https://localhost:8080/",
          "height": 300
        },
        "id": "BE2XqrzRS8Zo",
        "outputId": "4682f3bf-922c-4969-adf1-0cefd4ecf9dc"
      },
      "outputs": [],
      "source": [
        "df.describe()"
      ]
    },
    {
      "cell_type": "markdown",
      "metadata": {
        "id": "BjC9JIo5jJ79"
      },
      "source": [
        "**Análise dos outliers**"
      ]
    },
    {
      "cell_type": "code",
      "execution_count": null,
      "metadata": {
        "id": "9pBh8XgzjJOX"
      },
      "outputs": [],
      "source": [
        "import plotly.express as px"
      ]
    },
    {
      "cell_type": "code",
      "execution_count": null,
      "metadata": {
        "colab": {
          "base_uri": "https://localhost:8080/",
          "height": 542
        },
        "id": "R3RYMYZ0jQgO",
        "outputId": "9d78fb74-0ecb-44d4-e49d-b711d5a8f09b"
      },
      "outputs": [],
      "source": [
        "boxplot = px.box(df, y=\"RM\")\n",
        "boxplot.show()"
      ]
    },
    {
      "cell_type": "code",
      "execution_count": null,
      "metadata": {
        "colab": {
          "base_uri": "https://localhost:8080/",
          "height": 542
        },
        "id": "QNJ0er6fROyJ",
        "outputId": "7b769dcd-3757-4baa-990c-ad7ed1c0a290"
      },
      "outputs": [],
      "source": [
        "boxplot = px.box(df, y=\"LSTAT\")\n",
        "boxplot.show()"
      ]
    },
    {
      "cell_type": "code",
      "execution_count": null,
      "metadata": {
        "colab": {
          "base_uri": "https://localhost:8080/",
          "height": 542
        },
        "id": "xQXSjXoSRqTg",
        "outputId": "d34bd5f0-74a2-4f53-da76-447002e08a6f"
      },
      "outputs": [],
      "source": [
        "boxplot = px.box(df, y=\"PTRATIO\")\n",
        "boxplot.show()"
      ]
    },
    {
      "cell_type": "code",
      "execution_count": null,
      "metadata": {
        "colab": {
          "base_uri": "https://localhost:8080/",
          "height": 542
        },
        "id": "B9amK0_pR1Je",
        "outputId": "eef8e988-d1dd-498c-f70f-6eaa41d5a112"
      },
      "outputs": [],
      "source": [
        "boxplot = px.box(df, y=\"MEDV\")\n",
        "boxplot.show()"
      ]
    },
    {
      "cell_type": "markdown",
      "metadata": {
        "id": "1_UXHtabUPkP"
      },
      "source": [
        "## **CORRELAÇÃO LINEAR**"
      ]
    },
    {
      "cell_type": "code",
      "execution_count": null,
      "metadata": {
        "id": "KndAusGtsT7N"
      },
      "outputs": [],
      "source": [
        "df.head(2)"
      ]
    },
    {
      "cell_type": "markdown",
      "metadata": {
        "id": "QDtXzr4JsYGS"
      },
      "source": [
        "**Atributos previsores**\n",
        "\n",
        "RM: é o número médio de cômodos entre os imóveis no bairro.\n",
        "\n",
        "LSTAT: é a porcentagem de proprietários no bairro considerados de \"classe baixa\" (proletariado).\n",
        "\n",
        "PTRATIO: é a razão entre estudantes e professores nas escolas de ensino fundamental e médio no bairro.\n",
        "\n",
        "**Variável alvo**\n",
        "\n",
        "MEDV: valor médio das casas"
      ]
    },
    {
      "cell_type": "code",
      "execution_count": null,
      "metadata": {
        "id": "lIg7QtoMUNo5"
      },
      "outputs": [],
      "source": [
        "import matplotlib.pyplot as plt"
      ]
    },
    {
      "cell_type": "code",
      "execution_count": null,
      "metadata": {
        "id": "xdvIffKTUZ49"
      },
      "outputs": [],
      "source": [
        "plt.scatter(df.RM, df.MEDV)\n",
        "plt.title('Correlação Linear')\n",
        "plt.xlabel('Quantidade Média de Cômodos')\n",
        "plt.ylabel('Valor Médio')\n",
        "plt.grid(False)"
      ]
    },
    {
      "cell_type": "code",
      "execution_count": null,
      "metadata": {
        "id": "g8j-uHDFU-QF"
      },
      "outputs": [],
      "source": [
        "plt.scatter(df.LSTAT, df.MEDV)\n",
        "plt.title('Correlação Linear')\n",
        "plt.xlabel('Quantidade Classe Baixa (%)')\n",
        "plt.ylabel('Valor Médio')\n",
        "plt.grid(True)\n"
      ]
    },
    {
      "cell_type": "code",
      "execution_count": null,
      "metadata": {
        "id": "Onmpw86_Vqct"
      },
      "outputs": [],
      "source": [
        "plt.scatter(df.PTRATIO, df.MEDV)\n",
        "plt.title('Correlação Linear')\n",
        "plt.xlabel('Estudantes/Professores')\n",
        "plt.ylabel('Valor Médio')\n",
        "plt.grid(False)"
      ]
    },
    {
      "cell_type": "code",
      "execution_count": null,
      "metadata": {
        "id": "ZW3RE6_uDzE2"
      },
      "outputs": [],
      "source": [
        "import seaborn as sns"
      ]
    },
    {
      "cell_type": "code",
      "execution_count": null,
      "metadata": {
        "id": "3K5Ee3sED1YO"
      },
      "outputs": [],
      "source": [
        "sns.pairplot(df);"
      ]
    },
    {
      "cell_type": "markdown",
      "metadata": {
        "id": "_dOyeKE2AesY"
      },
      "source": [
        "### Análise da Normalidade"
      ]
    },
    {
      "cell_type": "markdown",
      "metadata": {
        "id": "U4MnqZjNG_29"
      },
      "source": [
        "Gráfico QQ-Plot"
      ]
    },
    {
      "cell_type": "code",
      "execution_count": null,
      "metadata": {
        "id": "o3lb2FS7A9MU"
      },
      "outputs": [],
      "source": [
        "import scipy.stats as stats"
      ]
    },
    {
      "cell_type": "code",
      "execution_count": null,
      "metadata": {
        "id": "LD3otdF6G8D1"
      },
      "outputs": [],
      "source": [
        "stats.probplot(df['MEDV'], dist=\"norm\", plot=plt)\n",
        "plt.title(\"Normal Q-Q plot\")\n",
        "plt.show()"
      ]
    },
    {
      "cell_type": "code",
      "execution_count": null,
      "metadata": {
        "id": "lDLCKa3ZSq1b"
      },
      "outputs": [],
      "source": [
        "import plotly.express as px"
      ]
    },
    {
      "cell_type": "code",
      "execution_count": null,
      "metadata": {
        "id": "JxIib1HfSJxN"
      },
      "outputs": [],
      "source": [
        "hist =  px.histogram (df,  x = \"MEDV\", nbins=60) \n",
        "hist.update_layout(width=800,height=500,title_text='Média dos valores') \n",
        "hist.show()"
      ]
    },
    {
      "cell_type": "code",
      "execution_count": null,
      "metadata": {
        "id": "-WaQDC6xHOzU"
      },
      "outputs": [],
      "source": [
        "stats.probplot(df['RM'], dist=\"norm\", plot=plt)\n",
        "plt.title(\"Normal Q-Q plot\")\n",
        "plt.show()"
      ]
    },
    {
      "cell_type": "code",
      "execution_count": null,
      "metadata": {
        "id": "DAr20mqI2FlH"
      },
      "outputs": [],
      "source": [
        "hist =  px.histogram (df,  x = \"RM\", nbins=40) \n",
        "hist.update_layout(width=800,height=500,title_text='Quantidade de cômodos') \n",
        "hist.show()"
      ]
    },
    {
      "cell_type": "code",
      "execution_count": null,
      "metadata": {
        "id": "C-ZHKF9O0vgj"
      },
      "outputs": [],
      "source": [
        "stats.probplot(df['LSTAT'], dist=\"norm\", plot=plt)\n",
        "plt.title(\"Normal Q-Q plot\")\n",
        "plt.show()"
      ]
    },
    {
      "cell_type": "code",
      "execution_count": null,
      "metadata": {
        "id": "t_DuX1wV2XTX"
      },
      "outputs": [],
      "source": [
        "hist =  px.histogram (df,  x = \"LSTAT\", nbins=60) \n",
        "hist.update_layout(width=800,height=500,title_text='Quantidade de Classe Baixa (%)') \n",
        "hist.show()"
      ]
    },
    {
      "cell_type": "code",
      "execution_count": null,
      "metadata": {
        "id": "JJdjZnSj07ih"
      },
      "outputs": [],
      "source": [
        "stats.probplot(df['PTRATIO'], dist=\"norm\", plot=plt)\n",
        "plt.title(\"Normal Q-Q plot\")\n",
        "plt.show()"
      ]
    },
    {
      "cell_type": "code",
      "execution_count": null,
      "metadata": {
        "id": "WfcMWw032ojE"
      },
      "outputs": [],
      "source": [
        "hist =  px.histogram (df,  x = \"PTRATIO\", nbins=60) \n",
        "hist.update_layout(width=800,height=500,title_text='Relação Estudantes/Professores') \n",
        "hist.show()"
      ]
    },
    {
      "cell_type": "markdown",
      "metadata": {
        "id": "b38jbpVpBSrN"
      },
      "source": [
        "Teste Shapiro-Wilk"
      ]
    },
    {
      "cell_type": "markdown",
      "metadata": {
        "id": "UBCGqxZiCKzR"
      },
      "source": [
        "Ho = distribuição normal : p > 0.05\n",
        "\n",
        "Ha = distribuição != normal : p <= 0.05"
      ]
    },
    {
      "cell_type": "code",
      "execution_count": null,
      "metadata": {
        "id": "5wcDiCVBL5Ax"
      },
      "outputs": [],
      "source": [
        "stats.shapiro(df.MEDV)"
      ]
    },
    {
      "cell_type": "code",
      "execution_count": null,
      "metadata": {
        "id": "wxg4KYhAAqIP"
      },
      "outputs": [],
      "source": [
        "estatistica, p = stats.shapiro(df.MEDV)\n",
        "print('Estatística do teste: {}'.format(estatistica))\n",
        "print('p-valor: {}'.format(p))"
      ]
    },
    {
      "cell_type": "code",
      "execution_count": null,
      "metadata": {
        "id": "2CtpuM8PFyio"
      },
      "outputs": [],
      "source": [
        "estatistica, p = stats.shapiro(df.RM)\n",
        "print('Estatística do teste: {}'.format(estatistica))\n",
        "print('p-valor: {}'.format(p))"
      ]
    },
    {
      "cell_type": "code",
      "execution_count": null,
      "metadata": {
        "id": "0-fjsQBK3id7"
      },
      "outputs": [],
      "source": [
        "estatistica, p = stats.shapiro(df.LSTAT)\n",
        "print('Estatística do teste: {}'.format(estatistica))\n",
        "print('p-valor: {}'.format(p))"
      ]
    },
    {
      "cell_type": "code",
      "execution_count": null,
      "metadata": {
        "id": "Qmbgy-Ie3id8"
      },
      "outputs": [],
      "source": [
        "estatistica, p = stats.shapiro(df.PTRATIO)\n",
        "print('Estatística do teste: {}'.format(estatistica))\n",
        "print('p-valor: {}'.format(p))"
      ]
    },
    {
      "cell_type": "markdown",
      "metadata": {
        "id": "V6bxiYpYJmKS"
      },
      "source": [
        "Teste Lilliefors (Kolmogorov_Sminorv)"
      ]
    },
    {
      "cell_type": "markdown",
      "metadata": {
        "id": "qmzqzC03JvHk"
      },
      "source": [
        "Ho = distribuição normal : p > 0.05\n",
        "\n",
        "Ha = distribuição != normal : p <= 0.05"
      ]
    },
    {
      "cell_type": "code",
      "execution_count": null,
      "metadata": {
        "id": "-FABb4nSJlXf"
      },
      "outputs": [],
      "source": [
        "import statsmodels\n",
        "from statsmodels.stats.diagnostic import lilliefors"
      ]
    },
    {
      "cell_type": "code",
      "execution_count": null,
      "metadata": {
        "id": "YAxevGrNJuT5"
      },
      "outputs": [],
      "source": [
        "estatistica, p = statsmodels.stats.diagnostic.lilliefors(df.MEDV, dist = 'norm')\n",
        "print('Estatística de teste: {}'.format(estatistica))\n",
        "print('p-valor: {}'.format(p))"
      ]
    },
    {
      "cell_type": "code",
      "execution_count": null,
      "metadata": {
        "id": "B1MzwpxfMZHm"
      },
      "outputs": [],
      "source": [
        "estatistica, p = statsmodels.stats.diagnostic.lilliefors(df.RM, dist = 'norm')\n",
        "print('Estatística de teste: {}'.format(estatistica))\n",
        "print('p-valor: {}'.format(p))"
      ]
    },
    {
      "cell_type": "markdown",
      "metadata": {
        "id": "uq5tgQBfnKEW"
      },
      "source": [
        "### Correlação Linear"
      ]
    },
    {
      "cell_type": "markdown",
      "metadata": {
        "id": "AINeGYMRQPdW"
      },
      "source": [
        "Pearson (distribuição normal)\n",
        "\n",
        "Spearman (distribuição não normal)\n",
        "\n",
        "Kendall (distribuição não normal com quantidade pequena de amostras)"
      ]
    },
    {
      "cell_type": "markdown",
      "metadata": {
        "id": "zqLl2LgkQbs3"
      },
      "source": [
        "Ho = não há corrrelação linear: p > 0,05\n",
        "\n",
        "Ha = existe correlação linear: p <= 0,05"
      ]
    },
    {
      "cell_type": "code",
      "execution_count": null,
      "metadata": {
        "id": "c0Qs5Jf2UR_1"
      },
      "outputs": [],
      "source": [
        "# Pearson\n",
        "#coef,p = stats.pearsonr(df.MEDV, df.RM)\n",
        "#print('Coeficiente de correlação: {}'.format(coef))\n",
        "#print('p-valor: {}'.format(p))"
      ]
    },
    {
      "cell_type": "code",
      "execution_count": null,
      "metadata": {
        "id": "K1dnDGnDVMQU"
      },
      "outputs": [],
      "source": [
        "# Spearman\n",
        "coef,p = stats.spearmanr(df.MEDV, df.PTRATIO)\n",
        "print('Coeficiente de correlação: {}'.format(coef))\n",
        "print('p-valor: {}'.format(p))"
      ]
    },
    {
      "cell_type": "code",
      "execution_count": null,
      "metadata": {
        "id": "rx0tZdc3VWBC"
      },
      "outputs": [],
      "source": [
        "# Kendall\n",
        "#coef,p = stats.kendalltau(df.MEDV,df.RM)\n",
        "#print('Coeficiente de correlação: {}'.format(coef))\n",
        "#print('p-valor: {}'.format(p))"
      ]
    },
    {
      "cell_type": "code",
      "execution_count": null,
      "metadata": {
        "id": "w6Wcby_cRHHg"
      },
      "outputs": [],
      "source": [
        "correlacoes = df.corr(method='spearman')\n",
        "correlacoes"
      ]
    },
    {
      "cell_type": "code",
      "execution_count": null,
      "metadata": {
        "id": "eaiZhH-XRisc"
      },
      "outputs": [],
      "source": [
        "plt.figure()\n",
        "sns.heatmap(correlacoes, annot=True);"
      ]
    },
    {
      "cell_type": "markdown",
      "metadata": {
        "id": "S3Hp7kQK9KaY"
      },
      "source": [
        "## **REGRESSÃO LINEAR SIMPLES**"
      ]
    },
    {
      "cell_type": "markdown",
      "metadata": {
        "id": "x7ruW5bkQhrR"
      },
      "source": [
        "https://scikit-learn.org/stable/modules/generated/sklearn.linear_model.LinearRegression.html "
      ]
    },
    {
      "cell_type": "markdown",
      "metadata": {
        "id": "Btt5b0gt0tAz"
      },
      "source": [
        "### Valor médio (MEDV) em função do número de cômodos (RM)"
      ]
    },
    {
      "cell_type": "code",
      "execution_count": null,
      "metadata": {
        "id": "uTt4DY04DavB"
      },
      "outputs": [],
      "source": [
        "df.head(2)"
      ]
    },
    {
      "cell_type": "code",
      "execution_count": null,
      "metadata": {
        "id": "r-ghCIWu0PM0"
      },
      "outputs": [],
      "source": [
        "x1 = df.iloc[:,0:1].values\n",
        "x1"
      ]
    },
    {
      "cell_type": "code",
      "execution_count": null,
      "metadata": {
        "id": "7S0eXs3R0dZe"
      },
      "outputs": [],
      "source": [
        "y = df.iloc[:, 3].values\n",
        "y"
      ]
    },
    {
      "cell_type": "code",
      "execution_count": null,
      "metadata": {
        "id": "xH25j9ap18Xu"
      },
      "outputs": [],
      "source": [
        "from sklearn.model_selection import train_test_split\n",
        "x_treino, x_teste, y_treino, y_teste = train_test_split(x1, y, test_size = 0.3, random_state = 10)"
      ]
    },
    {
      "cell_type": "code",
      "execution_count": null,
      "metadata": {
        "id": "Bsws9Z2P2Nug"
      },
      "outputs": [],
      "source": [
        "x_treino.shape, y_treino.shape"
      ]
    },
    {
      "cell_type": "code",
      "execution_count": null,
      "metadata": {
        "id": "bMjUYmZu2VEj"
      },
      "outputs": [],
      "source": [
        "x_teste.shape, y_teste.shape"
      ]
    },
    {
      "cell_type": "code",
      "execution_count": null,
      "metadata": {
        "id": "vEBGIvlQa41o"
      },
      "outputs": [],
      "source": [
        "from sklearn.linear_model import LinearRegression"
      ]
    },
    {
      "cell_type": "code",
      "execution_count": null,
      "metadata": {
        "id": "A-iqvnKk2bnf"
      },
      "outputs": [],
      "source": [
        "reg_linear1 = LinearRegression()\n",
        "reg_linear1.fit(x_treino, y_treino)"
      ]
    },
    {
      "cell_type": "code",
      "execution_count": null,
      "metadata": {
        "id": "2bX8QM8S2ntL"
      },
      "outputs": [],
      "source": [
        "# Intercepto (coeficiente linear)\n",
        "reg_linear1.intercept_"
      ]
    },
    {
      "cell_type": "code",
      "execution_count": null,
      "metadata": {
        "id": "ZRr5GJ8l2sQs"
      },
      "outputs": [],
      "source": [
        "# Coeficiente Angular\n",
        "reg_linear1.coef_"
      ]
    },
    {
      "cell_type": "markdown",
      "metadata": {
        "id": "uGC5B9gnO-oZ"
      },
      "source": [
        "**Equação: Valor = -626510,27 + 173771,45.número_cômodos**"
      ]
    },
    {
      "cell_type": "code",
      "execution_count": null,
      "metadata": {
        "id": "GpTQY7812wpM"
      },
      "outputs": [],
      "source": [
        "# Coeficiente de Determinação dados de treino\n",
        "reg_linear1.score(x_treino, y_treino)"
      ]
    },
    {
      "cell_type": "code",
      "execution_count": null,
      "metadata": {
        "id": "1EG8Tvie28UO"
      },
      "outputs": [],
      "source": [
        "# Coeficiente de Determinação dados de teste\n",
        "reg_linear1.score(x_teste, y_teste)"
      ]
    },
    {
      "cell_type": "code",
      "execution_count": null,
      "metadata": {
        "id": "kL8XhAwQ3EbM"
      },
      "outputs": [],
      "source": [
        "previsoes_treino = reg_linear1.predict(x_treino)\n",
        "previsoes_treino"
      ]
    },
    {
      "cell_type": "code",
      "execution_count": null,
      "metadata": {
        "id": "0nRoU5nmvNLn"
      },
      "outputs": [],
      "source": [
        "import matplotlib.pyplot as plt"
      ]
    },
    {
      "cell_type": "code",
      "execution_count": null,
      "metadata": {
        "id": "t3hTUF7HzVC5"
      },
      "outputs": [],
      "source": [
        "plt.scatter(y=y_treino, x=x_treino, color='blue', s=10, alpha=0.9)\n",
        "X_plot = np.linspace(3, 9)\n",
        "plt.plot(X_plot, X_plot*reg_linear1.coef_ + reg_linear1.intercept_, color='r')\n",
        "plt.title('Reta de regressão')\n",
        "plt.ylabel('Valor Médio')\n",
        "plt.xlabel('Quantidade Média de Cômodos')\n",
        "plt.show()"
      ]
    },
    {
      "cell_type": "code",
      "execution_count": null,
      "metadata": {
        "id": "4KLbSxAg5oiQ"
      },
      "outputs": [],
      "source": [
        "previsoes_teste = reg_linear1.predict(x_teste)\n",
        "previsoes_teste"
      ]
    },
    {
      "cell_type": "code",
      "execution_count": null,
      "metadata": {
        "id": "XZtf_4mq5wLy"
      },
      "outputs": [],
      "source": [
        "y_teste"
      ]
    },
    {
      "cell_type": "code",
      "execution_count": null,
      "metadata": {
        "id": "6v_GM2AQ8KdP"
      },
      "outputs": [],
      "source": [
        "plt.scatter(y=y_teste, x=x_teste, color='blue', s=10, alpha=0.9)\n",
        "X_plot = np.linspace(4, 9)\n",
        "plt.plot(X_plot, X_plot*reg_linear1.coef_ + reg_linear1.intercept_, color='r')\n",
        "plt.title('Reta de regressão')\n",
        "plt.ylabel('Valor Médio')\n",
        "plt.xlabel('Quantidade de Cômodos')\n",
        "plt.show()"
      ]
    },
    {
      "cell_type": "code",
      "execution_count": null,
      "metadata": {
        "id": "CNrxZVosM5lD"
      },
      "outputs": [],
      "source": [
        "# Fazendo previsões para valores distintos\n",
        "valor_casa = reg_linear1.predict([[4]])\n",
        "valor_casa"
      ]
    },
    {
      "cell_type": "markdown",
      "metadata": {
        "id": "-eU7r8Fs2n5o"
      },
      "source": [
        "**Métricas de Desempenho**"
      ]
    },
    {
      "cell_type": "code",
      "execution_count": null,
      "metadata": {
        "id": "K0vNPhFw2QA_"
      },
      "outputs": [],
      "source": [
        "# Erro absoluto\n",
        "abs(y_teste - previsoes_teste).mean()"
      ]
    },
    {
      "cell_type": "code",
      "execution_count": null,
      "metadata": {
        "id": "0xwitnAQ2QBA"
      },
      "outputs": [],
      "source": [
        "from sklearn.metrics import mean_absolute_error, mean_squared_error"
      ]
    },
    {
      "cell_type": "code",
      "execution_count": null,
      "metadata": {
        "id": "JvV7onBf2QBA"
      },
      "outputs": [],
      "source": [
        "# Erro médio absoluto\n",
        "mean_absolute_error(y_teste, previsoes_teste)"
      ]
    },
    {
      "cell_type": "code",
      "execution_count": null,
      "metadata": {
        "id": "Hsv58lFO2QBB"
      },
      "outputs": [],
      "source": [
        "# Erro quadrático médio\n",
        "mean_squared_error(y_teste, previsoes_teste)"
      ]
    },
    {
      "cell_type": "code",
      "execution_count": null,
      "metadata": {
        "id": "XP8C3lPI2QBC"
      },
      "outputs": [],
      "source": [
        "# Raiz do erro quadrático médio\n",
        "np.sqrt(mean_squared_error(y_teste, previsoes_teste))"
      ]
    },
    {
      "cell_type": "markdown",
      "metadata": {
        "id": "xOvqLq4JDIV1"
      },
      "source": [
        "### Valor médio (MEDV) em função da classe social (LSTAT)"
      ]
    },
    {
      "cell_type": "code",
      "execution_count": null,
      "metadata": {
        "id": "tlTW_OVLD7Gd"
      },
      "outputs": [],
      "source": [
        "df.head(2)"
      ]
    },
    {
      "cell_type": "code",
      "execution_count": null,
      "metadata": {
        "id": "BX3_0k2JDIV-"
      },
      "outputs": [],
      "source": [
        "x2 = df.iloc[:,1:2].values\n",
        "x2"
      ]
    },
    {
      "cell_type": "code",
      "execution_count": null,
      "metadata": {
        "id": "QQxq1rOaDIV-"
      },
      "outputs": [],
      "source": [
        "y = df.iloc[:, 3].values\n",
        "y"
      ]
    },
    {
      "cell_type": "code",
      "execution_count": null,
      "metadata": {
        "id": "fm5tatizDIV-"
      },
      "outputs": [],
      "source": [
        "from sklearn.model_selection import train_test_split\n",
        "x_treino, x_teste, y_treino, y_teste = train_test_split(x2, y, test_size = 0.3, random_state = 10)"
      ]
    },
    {
      "cell_type": "code",
      "execution_count": null,
      "metadata": {
        "id": "Nf4kIFBUDIV-"
      },
      "outputs": [],
      "source": [
        "x_treino.shape, y_treino.shape"
      ]
    },
    {
      "cell_type": "code",
      "execution_count": null,
      "metadata": {
        "id": "1ENZkvJ6DIV_"
      },
      "outputs": [],
      "source": [
        "x_teste.shape, y_teste.shape"
      ]
    },
    {
      "cell_type": "code",
      "execution_count": null,
      "metadata": {
        "id": "pnlHWrMSDIV_"
      },
      "outputs": [],
      "source": [
        "from sklearn.linear_model import LinearRegression\n",
        "reg_linear2 = LinearRegression()\n",
        "reg_linear2.fit(x_treino, y_treino)"
      ]
    },
    {
      "cell_type": "code",
      "execution_count": null,
      "metadata": {
        "id": "sf9TY-nmDIV_"
      },
      "outputs": [],
      "source": [
        "# Intercepto (coeficiente linear)\n",
        "reg_linear2.intercept_"
      ]
    },
    {
      "cell_type": "code",
      "execution_count": null,
      "metadata": {
        "id": "yKxLXHwwDIWA"
      },
      "outputs": [],
      "source": [
        "# Coeficiente Angular\n",
        "reg_linear2.coef_"
      ]
    },
    {
      "cell_type": "markdown",
      "metadata": {
        "id": "egv0y9u3pTN2"
      },
      "source": [
        "**Equação: Valor = 681977,75 - 17263,75.LSTAT**"
      ]
    },
    {
      "cell_type": "code",
      "execution_count": null,
      "metadata": {
        "id": "7rAbcYHrDIWA"
      },
      "outputs": [],
      "source": [
        "# Coeficiente de Determinação dados de treino\n",
        "reg_linear2.score(x_treino, y_treino)"
      ]
    },
    {
      "cell_type": "code",
      "execution_count": null,
      "metadata": {
        "id": "01cMJImBDIWA"
      },
      "outputs": [],
      "source": [
        "previsoes_treino = reg_linear2.predict(x_treino)\n",
        "previsoes_treino"
      ]
    },
    {
      "cell_type": "code",
      "execution_count": null,
      "metadata": {
        "id": "1k8tu9tSDIWA"
      },
      "outputs": [],
      "source": [
        "plt.scatter(y=y_treino, x=x_treino, color='blue', s=10, alpha=0.9)\n",
        "X_plot = np.linspace(0, 40)\n",
        "plt.plot(X_plot, X_plot*reg_linear2.coef_ + reg_linear2.intercept_, color='r')\n",
        "plt.title('Reta de regressão')\n",
        "plt.ylabel('Valor Médio')\n",
        "plt.xlabel('Quantidade de Proprietários de Classe Média Baixa (%)')\n",
        "plt.show()"
      ]
    },
    {
      "cell_type": "code",
      "execution_count": null,
      "metadata": {
        "id": "0VULl4HSDIWB"
      },
      "outputs": [],
      "source": [
        "previsoes_teste = reg_linear2.predict(x_teste)\n",
        "previsoes_teste"
      ]
    },
    {
      "cell_type": "code",
      "execution_count": null,
      "metadata": {
        "id": "A0e4uSPQDIWB"
      },
      "outputs": [],
      "source": [
        "y_teste"
      ]
    },
    {
      "cell_type": "code",
      "execution_count": null,
      "metadata": {
        "id": "hBKuKJ8CDIWA"
      },
      "outputs": [],
      "source": [
        "# Coeficiente de Determinação dados de teste\n",
        "reg_linear2.score(x_teste, y_teste)"
      ]
    },
    {
      "cell_type": "code",
      "execution_count": null,
      "metadata": {
        "id": "662tKSwpDIWB"
      },
      "outputs": [],
      "source": [
        "plt.scatter(y=y_teste, x=x_teste, color='blue', s=10, alpha=0.9)\n",
        "X_plot = np.linspace(2, 35)\n",
        "plt.plot(X_plot, X_plot*reg_linear2.coef_ + reg_linear2.intercept_, color='r')\n",
        "plt.title('Reta de regressão')\n",
        "plt.ylabel('Valor Médio')\n",
        "plt.xlabel('Quantidade de Proprietários de Classe Média Baixa (%)')\n",
        "plt.show()"
      ]
    },
    {
      "cell_type": "code",
      "execution_count": null,
      "metadata": {
        "id": "2q9VCdUONwFp"
      },
      "outputs": [],
      "source": [
        "# Fazendo previsões para valores distintos\n",
        "valor_casa = reg_linear2.predict([[25]])\n",
        "valor_casa"
      ]
    },
    {
      "cell_type": "markdown",
      "metadata": {
        "id": "UA65Y6G6DIWB"
      },
      "source": [
        "**Métricas de Desempenho**"
      ]
    },
    {
      "cell_type": "code",
      "execution_count": null,
      "metadata": {
        "id": "QV59JNCnDIWB"
      },
      "outputs": [],
      "source": [
        "# Erro absoluto\n",
        "abs(y_teste - previsoes_teste).mean()"
      ]
    },
    {
      "cell_type": "code",
      "execution_count": null,
      "metadata": {
        "id": "MOv0MSHiDIWC"
      },
      "outputs": [],
      "source": [
        "from sklearn.metrics import mean_absolute_error, mean_squared_error"
      ]
    },
    {
      "cell_type": "code",
      "execution_count": null,
      "metadata": {
        "id": "bc0dZQc7DIWC"
      },
      "outputs": [],
      "source": [
        "# Erro médio Absoluto\n",
        "mean_absolute_error(y_teste, previsoes_teste)"
      ]
    },
    {
      "cell_type": "code",
      "execution_count": null,
      "metadata": {
        "id": "-I9Zi-ZVDIWC"
      },
      "outputs": [],
      "source": [
        "# Erro quadrático médio\n",
        "mean_squared_error(y_teste, previsoes_teste)"
      ]
    },
    {
      "cell_type": "code",
      "execution_count": null,
      "metadata": {
        "id": "io-zNm8VDIWC"
      },
      "outputs": [],
      "source": [
        "# Raiz do erro quadrático médio (RMSE)\n",
        "np.sqrt(mean_squared_error(y_teste, previsoes_teste))"
      ]
    },
    {
      "cell_type": "markdown",
      "metadata": {
        "id": "BsXaKhiVIMGl"
      },
      "source": [
        "### **Validação Cruzada**"
      ]
    },
    {
      "cell_type": "code",
      "execution_count": null,
      "metadata": {
        "id": "lvBuy5bm_qok"
      },
      "outputs": [],
      "source": [
        "from sklearn.model_selection import KFold\n",
        "from sklearn.model_selection import cross_val_score"
      ]
    },
    {
      "cell_type": "code",
      "execution_count": null,
      "metadata": {
        "id": "SS_dyx4x_260"
      },
      "outputs": [],
      "source": [
        "# Separando os dados em folds\n",
        "kfold = KFold(n_splits = 15, shuffle=True, random_state = 5)"
      ]
    },
    {
      "cell_type": "code",
      "execution_count": null,
      "metadata": {
        "id": "K0aqT7kPAf1L"
      },
      "outputs": [],
      "source": [
        "# Criando o modelo\n",
        "from sklearn.linear_model import LinearRegression\n",
        "modelo = LinearRegression()\n",
        "resultado = cross_val_score(modelo, x2, y, cv = kfold)\n",
        "resultado"
      ]
    },
    {
      "cell_type": "code",
      "execution_count": null,
      "metadata": {
        "id": "3Lq7dW7ALUqE"
      },
      "outputs": [],
      "source": [
        "# Usamos a média e o desvio padrão\n",
        "print(\"Coef. determinação Médio: %.2f%%\" % (resultado.mean() * 100.0))"
      ]
    },
    {
      "cell_type": "markdown",
      "metadata": {
        "id": "LmzsbeX5w0lY"
      },
      "source": [
        "## **REGRESSÃO LINEAR MÚLTIPLA**"
      ]
    },
    {
      "cell_type": "code",
      "execution_count": null,
      "metadata": {
        "id": "kgYpMcLwkZUE"
      },
      "outputs": [],
      "source": [
        "from sklearn.linear_model import LinearRegression"
      ]
    },
    {
      "cell_type": "code",
      "execution_count": null,
      "metadata": {
        "id": "f1nrMVmEyqIC"
      },
      "outputs": [],
      "source": [
        "df.head(2)"
      ]
    },
    {
      "cell_type": "code",
      "execution_count": null,
      "metadata": {
        "id": "aX8qGculivhJ"
      },
      "outputs": [],
      "source": [
        "independente = df.iloc[:, 0:3].values\n",
        "independente"
      ]
    },
    {
      "cell_type": "code",
      "execution_count": null,
      "metadata": {
        "id": "M7xlISgSzDMG"
      },
      "outputs": [],
      "source": [
        "independente.shape"
      ]
    },
    {
      "cell_type": "code",
      "execution_count": null,
      "metadata": {
        "id": "Qqq3fnIvjP3R"
      },
      "outputs": [],
      "source": [
        "dependente = df.iloc[:, 3].values\n",
        "dependente"
      ]
    },
    {
      "cell_type": "code",
      "execution_count": null,
      "metadata": {
        "id": "a4AKtgVd9h02"
      },
      "outputs": [],
      "source": [
        "from sklearn.model_selection import train_test_split\n",
        "x_treino, x_teste, y_treino, y_teste = train_test_split(independente, dependente, test_size = 0.3, random_state = 0)"
      ]
    },
    {
      "cell_type": "code",
      "execution_count": null,
      "metadata": {
        "id": "9fw4GK5g9kkj"
      },
      "outputs": [],
      "source": [
        "x_treino.shape, x_teste.shape"
      ]
    },
    {
      "cell_type": "code",
      "execution_count": null,
      "metadata": {
        "id": "WUP3-e_okhcd"
      },
      "outputs": [],
      "source": [
        "multipla = LinearRegression()\n",
        "multipla.fit(x_treino, y_treino)"
      ]
    },
    {
      "cell_type": "code",
      "execution_count": null,
      "metadata": {
        "id": "wTgjt31Ep3NI"
      },
      "outputs": [],
      "source": [
        "multipla.intercept_"
      ]
    },
    {
      "cell_type": "code",
      "execution_count": null,
      "metadata": {
        "id": "9BgX7VTMuv1q"
      },
      "outputs": [],
      "source": [
        "multipla.coef_"
      ]
    },
    {
      "cell_type": "code",
      "execution_count": null,
      "metadata": {
        "id": "8nn9ATOblAPt"
      },
      "outputs": [],
      "source": [
        "print(\"Equação: Valor = {:.2f} + ({:.2f})*RM + ({:.2f})*LSTAT + ({:.2f})*PTRATIO\".format(multipla.intercept_, multipla.coef_[0], multipla.coef_[1], multipla.coef_[2]))"
      ]
    },
    {
      "cell_type": "code",
      "execution_count": null,
      "metadata": {
        "id": "4n_LXotMoJpM"
      },
      "outputs": [],
      "source": [
        "# Coeficiente de Determinação\n",
        "multipla.score(x_treino, y_treino)"
      ]
    },
    {
      "cell_type": "markdown",
      "metadata": {
        "id": "FWKwy4jE18as"
      },
      "source": [
        "**TESTE**"
      ]
    },
    {
      "cell_type": "code",
      "execution_count": null,
      "metadata": {
        "id": "vS3xum5A1-Hw"
      },
      "outputs": [],
      "source": [
        "previsoes = multipla.predict(x_teste)\n",
        "previsoes"
      ]
    },
    {
      "cell_type": "code",
      "execution_count": null,
      "metadata": {
        "id": "Ii_5SXfv2IWa"
      },
      "outputs": [],
      "source": [
        "y_teste"
      ]
    },
    {
      "cell_type": "code",
      "execution_count": null,
      "metadata": {
        "id": "uyGfU-jg5n5A"
      },
      "outputs": [],
      "source": [
        "# Coeficiente de Determinação\n",
        "multipla.score(x_teste, y_teste)"
      ]
    },
    {
      "cell_type": "code",
      "execution_count": null,
      "metadata": {
        "id": "FS1Jm81s7E1t"
      },
      "outputs": [],
      "source": [
        "# Fazendo previsões para valores distintos\n",
        "valor_casa = multipla.predict([[6,20,12]])\n",
        "valor_casa"
      ]
    },
    {
      "cell_type": "markdown",
      "metadata": {
        "id": "sSpkaLa65QBw"
      },
      "source": [
        "**MÉTRICAS**"
      ]
    },
    {
      "cell_type": "code",
      "execution_count": null,
      "metadata": {
        "id": "VzYBRKey3Gx3"
      },
      "outputs": [],
      "source": [
        "# Erro absoluto\n",
        "abs(y_teste - previsoes).mean()"
      ]
    },
    {
      "cell_type": "code",
      "execution_count": null,
      "metadata": {
        "id": "Xe7D9X8T3Gx4"
      },
      "outputs": [],
      "source": [
        "from sklearn.metrics import mean_absolute_error, mean_squared_error"
      ]
    },
    {
      "cell_type": "code",
      "execution_count": null,
      "metadata": {
        "id": "IDgsagJZ3Gx4"
      },
      "outputs": [],
      "source": [
        "# Erro médio Absoluto\n",
        "mean_absolute_error(y_teste, previsoes)"
      ]
    },
    {
      "cell_type": "code",
      "execution_count": null,
      "metadata": {
        "id": "9Ji4rWpd3Gx5"
      },
      "outputs": [],
      "source": [
        "# Erro quadrático médio\n",
        "mean_squared_error(y_teste, previsoes)"
      ]
    },
    {
      "cell_type": "code",
      "execution_count": null,
      "metadata": {
        "id": "T28f1ngx3Gx5"
      },
      "outputs": [],
      "source": [
        "# Raiz do erro quadrático médio\n",
        "np.sqrt(mean_squared_error(y_teste, previsoes))"
      ]
    },
    {
      "cell_type": "markdown",
      "metadata": {
        "id": "gGC6-Oz98SHi"
      },
      "source": [
        "### **Validação Cruzada**"
      ]
    },
    {
      "cell_type": "code",
      "execution_count": null,
      "metadata": {
        "id": "a-BNcrFK8SHj"
      },
      "outputs": [],
      "source": [
        "from sklearn.model_selection import KFold\n",
        "from sklearn.model_selection import cross_val_score"
      ]
    },
    {
      "cell_type": "code",
      "execution_count": null,
      "metadata": {
        "id": "ajx802o98SHk"
      },
      "outputs": [],
      "source": [
        "# Separando os dados em folds\n",
        "kfold = KFold(n_splits = 15, shuffle=True, random_state = 5)"
      ]
    },
    {
      "cell_type": "code",
      "execution_count": null,
      "metadata": {
        "id": "pHsOTmgU8SHl"
      },
      "outputs": [],
      "source": [
        "# Criando o modelo\n",
        "from sklearn.linear_model import LinearRegression\n",
        "modelo = LinearRegression()\n",
        "resultado = cross_val_score(modelo, independente, dependente, cv = kfold)\n",
        "resultado"
      ]
    },
    {
      "cell_type": "code",
      "execution_count": null,
      "metadata": {
        "id": "RdlkoLV38SHl"
      },
      "outputs": [],
      "source": [
        "# Usamos a média e o desvio padrão\n",
        "print(\"Coeficiente de Determinação Médio: %.2f%%\" % (resultado.mean() * 100.0))"
      ]
    },
    {
      "cell_type": "markdown",
      "metadata": {
        "id": "WTK4cOLq93Uh"
      },
      "source": [
        "**REGRESSÃO LINEAR SIMPLES:** R^2 = 0,57/0,60; RMSE = 99315,5; R^2 Validação Cruzada: 55,97%\n",
        "\n",
        "**REGRESSÃO LINEAR MÚLTIPLA:** R^2 = 0,73/0,68; RMSE = 96087,3; R^2 Validação Cruzada: 69,25%"
      ]
    },
    {
      "cell_type": "markdown",
      "metadata": {
        "id": "l74FqlotBUSo"
      },
      "source": [
        "## **REGRESSÃO POLINOMIAL**"
      ]
    },
    {
      "cell_type": "markdown",
      "metadata": {
        "id": "rxl3wSbjQzmC"
      },
      "source": [
        "https://scikit-learn.org/stable/modules/generated/sklearn.preprocessing.PolynomialFeatures.html "
      ]
    },
    {
      "cell_type": "markdown",
      "metadata": {
        "id": "s6Xb-47Gy2Zu"
      },
      "source": [
        "Valor médio (MEDV) em função do número de cômodos (RM)"
      ]
    },
    {
      "cell_type": "code",
      "execution_count": null,
      "metadata": {
        "colab": {
          "base_uri": "https://localhost:8080/",
          "height": 112
        },
        "id": "iW4QWMUdy2Zw",
        "outputId": "a2213841-13e8-4b2e-9cc7-fe88ef5dad23"
      },
      "outputs": [],
      "source": [
        "df.head(2)"
      ]
    },
    {
      "cell_type": "code",
      "execution_count": null,
      "metadata": {
        "id": "iHwBH87Qy2Zx"
      },
      "outputs": [],
      "source": [
        "x1 = df.iloc[:,0:1].values\n",
        "x1"
      ]
    },
    {
      "cell_type": "code",
      "execution_count": null,
      "metadata": {
        "id": "YcPCZ7B2y2Zx"
      },
      "outputs": [],
      "source": [
        "y = df.iloc[:, 3].values\n",
        "y"
      ]
    },
    {
      "cell_type": "code",
      "execution_count": null,
      "metadata": {
        "id": "kN8BGPNuy2Zy"
      },
      "outputs": [],
      "source": [
        "from sklearn.model_selection import train_test_split\n",
        "x_treino, x_teste, y_treino, y_teste = train_test_split(x1, y, test_size = 0.3, random_state = 0)"
      ]
    },
    {
      "cell_type": "code",
      "execution_count": null,
      "metadata": {
        "colab": {
          "base_uri": "https://localhost:8080/"
        },
        "id": "LnZefisMy2Zz",
        "outputId": "d132d049-41dd-4326-b5cc-a02aed0ccaa6"
      },
      "outputs": [],
      "source": [
        "x_treino.shape, y_treino.shape"
      ]
    },
    {
      "cell_type": "code",
      "execution_count": null,
      "metadata": {
        "colab": {
          "base_uri": "https://localhost:8080/"
        },
        "id": "4HZbiotXy2Zz",
        "outputId": "75a0699e-d8e6-403d-ef7a-8d52220be42c"
      },
      "outputs": [],
      "source": [
        "x_teste.shape, y_teste.shape"
      ]
    },
    {
      "cell_type": "code",
      "execution_count": null,
      "metadata": {
        "id": "fYmNDUC70sS-"
      },
      "outputs": [],
      "source": [
        "from sklearn.preprocessing import PolynomialFeatures\n",
        "from sklearn.linear_model import LinearRegression"
      ]
    },
    {
      "cell_type": "code",
      "execution_count": null,
      "metadata": {
        "id": "cJ40XdDp0wa9"
      },
      "outputs": [],
      "source": [
        "# Pré Processamento\n",
        "grau_polinomial =PolynomialFeatures(degree=2)"
      ]
    },
    {
      "cell_type": "code",
      "execution_count": null,
      "metadata": {
        "colab": {
          "base_uri": "https://localhost:8080/"
        },
        "id": "eaKDcBBa09t8",
        "outputId": "8204c563-5f48-4ef4-ce17-5b9c80abc4fc"
      },
      "outputs": [],
      "source": [
        "x_poly = grau_polinomial.fit_transform(x_treino)\n",
        "x_poly"
      ]
    },
    {
      "cell_type": "code",
      "execution_count": null,
      "metadata": {
        "id": "c92sBlGh14g8"
      },
      "outputs": [],
      "source": [
        "polinomial = LinearRegression()"
      ]
    },
    {
      "cell_type": "code",
      "execution_count": null,
      "metadata": {
        "colab": {
          "base_uri": "https://localhost:8080/"
        },
        "id": "rmcVhyf62D2Z",
        "outputId": "e7434aad-ec00-437a-f494-ada281033179"
      },
      "outputs": [],
      "source": [
        "polinomial.fit(x_poly, y_treino)"
      ]
    },
    {
      "cell_type": "code",
      "execution_count": null,
      "metadata": {
        "id": "6LdCO7pn21oL"
      },
      "outputs": [],
      "source": [
        "previsoes_treino = polinomial.predict(x_poly)"
      ]
    },
    {
      "cell_type": "code",
      "execution_count": null,
      "metadata": {
        "colab": {
          "base_uri": "https://localhost:8080/"
        },
        "id": "sxO5u0kuBmZZ",
        "outputId": "bec1e97c-a507-40a6-c040-a6092d5f7e29"
      },
      "outputs": [],
      "source": [
        "polinomial.coef_"
      ]
    },
    {
      "cell_type": "code",
      "execution_count": null,
      "metadata": {
        "colab": {
          "base_uri": "https://localhost:8080/"
        },
        "id": "45PxFqQJBvJ-",
        "outputId": "427725b0-f79d-4107-bf10-7198413162b0"
      },
      "outputs": [],
      "source": [
        "polinomial.intercept_"
      ]
    },
    {
      "cell_type": "markdown",
      "metadata": {
        "id": "gip9Am_QCO5m"
      },
      "source": [
        "**Equação:**\n",
        "\n",
        "Valor = 1640107 - 568528.11*RM + 60092.59*RM^2"
      ]
    },
    {
      "cell_type": "code",
      "execution_count": null,
      "metadata": {
        "id": "90-1bKy_ErzH"
      },
      "outputs": [],
      "source": [
        "numeros = np.linspace(3,9.84,342)\n",
        "numeros"
      ]
    },
    {
      "cell_type": "code",
      "execution_count": null,
      "metadata": {
        "colab": {
          "base_uri": "https://localhost:8080/"
        },
        "id": "xSHziSI6Ibdw",
        "outputId": "ea341448-e166-4193-bd4b-cf7eaa65c675"
      },
      "outputs": [],
      "source": [
        "numeros.shape"
      ]
    },
    {
      "cell_type": "code",
      "execution_count": null,
      "metadata": {
        "id": "1z_fEA9NCMFu"
      },
      "outputs": [],
      "source": [
        "valor = 1640107 -568528.11*numeros + 60092.59*numeros**2"
      ]
    },
    {
      "cell_type": "code",
      "execution_count": null,
      "metadata": {
        "id": "bHC7KVx8BCrF"
      },
      "outputs": [],
      "source": [
        "import matplotlib.pyplot as plt"
      ]
    },
    {
      "cell_type": "code",
      "execution_count": null,
      "metadata": {
        "colab": {
          "base_uri": "https://localhost:8080/",
          "height": 295
        },
        "id": "73IUpLI63J37",
        "outputId": "8acca2e0-cf6c-4152-ae86-cc82bf163d25"
      },
      "outputs": [],
      "source": [
        "plt.scatter(x_treino, y_treino, c = \"gray\")\n",
        "plt.xlabel(\"Quantidade Cômodos\")\n",
        "plt.ylabel(\"Valores das Casas\")\n",
        "plt.title(\"Previsão dos valores das casas: dados de treino\")\n",
        "plt.plot(numeros, valor);"
      ]
    },
    {
      "cell_type": "code",
      "execution_count": null,
      "metadata": {
        "colab": {
          "base_uri": "https://localhost:8080/"
        },
        "id": "nqXZAgSpM5TL",
        "outputId": "2a9762c9-aae9-4298-efe7-39fd5ca8b04c"
      },
      "outputs": [],
      "source": [
        "# Fazendo previsões para valores distintos\n",
        "comodos = 6\n",
        "valor = 1640107 -568528.11*comodos + 60092.59*comodos**2\n",
        "valor"
      ]
    },
    {
      "cell_type": "code",
      "execution_count": null,
      "metadata": {
        "colab": {
          "base_uri": "https://localhost:8080/"
        },
        "id": "WrsObUUUQse7",
        "outputId": "f79faec3-1530-4f59-c250-f5dbbe6f5490"
      },
      "outputs": [],
      "source": [
        "# Coeficiente de Determinação dados de treino\n",
        "polinomial.score(x_poly, y_treino)"
      ]
    },
    {
      "cell_type": "markdown",
      "metadata": {
        "id": "YQM-rjYiKIx3"
      },
      "source": [
        "**TESTE**"
      ]
    },
    {
      "cell_type": "code",
      "execution_count": null,
      "metadata": {
        "colab": {
          "base_uri": "https://localhost:8080/"
        },
        "id": "b26kMsIcKRfc",
        "outputId": "d44854d2-1a7e-44cd-b9a0-77e729c1e91c"
      },
      "outputs": [],
      "source": [
        "numeros2 = np.linspace(3,8.88,147)\n",
        "numeros2"
      ]
    },
    {
      "cell_type": "code",
      "execution_count": null,
      "metadata": {
        "colab": {
          "base_uri": "https://localhost:8080/"
        },
        "id": "QwIONvPaKRfd",
        "outputId": "93e88560-0753-4579-e2cf-b56cab992214"
      },
      "outputs": [],
      "source": [
        "numeros2.shape"
      ]
    },
    {
      "cell_type": "code",
      "execution_count": null,
      "metadata": {
        "id": "Jl8S1QHnKRfd"
      },
      "outputs": [],
      "source": [
        "valor2 = 1640107 -568528.11*numeros2 + 60092.59*numeros2**2"
      ]
    },
    {
      "cell_type": "code",
      "execution_count": null,
      "metadata": {
        "id": "CwfK-zZLKRfe"
      },
      "outputs": [],
      "source": [
        "import matplotlib.pyplot as plt"
      ]
    },
    {
      "cell_type": "code",
      "execution_count": null,
      "metadata": {
        "colab": {
          "base_uri": "https://localhost:8080/",
          "height": 295
        },
        "id": "dtf0r1GcKRfe",
        "outputId": "20df57ba-6d41-49b0-e1b6-c9056d962708"
      },
      "outputs": [],
      "source": [
        "plt.scatter(x_teste, y_teste, c = \"gray\")\n",
        "plt.xlabel(\"Quantidade Cômodos\")\n",
        "plt.ylabel(\"Valor Casas\")\n",
        "plt.title(\"Previsão dos valores das casas: dados de teste\")\n",
        "plt.plot(numeros2, valor2);"
      ]
    },
    {
      "cell_type": "code",
      "execution_count": null,
      "metadata": {
        "id": "hoH-9JjWKdAe"
      },
      "outputs": [],
      "source": [
        "x_poly_teste = grau_polinomial.fit_transform(x_teste)\n",
        "x_poly_teste"
      ]
    },
    {
      "cell_type": "code",
      "execution_count": null,
      "metadata": {
        "id": "NJv-sQdBKdAf"
      },
      "outputs": [],
      "source": [
        "polinomial_teste = LinearRegression()"
      ]
    },
    {
      "cell_type": "code",
      "execution_count": null,
      "metadata": {
        "colab": {
          "base_uri": "https://localhost:8080/"
        },
        "id": "mb-o1YtPKRfZ",
        "outputId": "00612fda-f778-4eb4-8cd8-d9a87e2b5b5f"
      },
      "outputs": [],
      "source": [
        "polinomial_teste.fit(x_poly_teste, y_teste)"
      ]
    },
    {
      "cell_type": "code",
      "execution_count": null,
      "metadata": {
        "colab": {
          "base_uri": "https://localhost:8080/"
        },
        "id": "N4VHnrmARbfA",
        "outputId": "45552ab7-ea82-4c64-aa25-4ac5364ca8ba"
      },
      "outputs": [],
      "source": [
        "# Coeficiente de Determinação dados de teste\n",
        "polinomial.score(x_poly_teste, y_teste)"
      ]
    },
    {
      "cell_type": "code",
      "execution_count": null,
      "metadata": {
        "id": "8PngvKX2KRfa"
      },
      "outputs": [],
      "source": [
        "previsoes_teste = polinomial_teste.predict(x_poly_teste)"
      ]
    },
    {
      "cell_type": "markdown",
      "metadata": {
        "id": "bLfbXwUV2tZJ"
      },
      "source": [
        "**MÉTRICAS**"
      ]
    },
    {
      "cell_type": "code",
      "execution_count": null,
      "metadata": {
        "id": "PnDu4Kht7qFI"
      },
      "outputs": [],
      "source": [
        "from sklearn.metrics import mean_absolute_error, mean_squared_error"
      ]
    },
    {
      "cell_type": "code",
      "execution_count": null,
      "metadata": {
        "colab": {
          "base_uri": "https://localhost:8080/"
        },
        "id": "1aC34FoV7qFJ",
        "outputId": "62a8f0f6-98d3-430c-81ee-431e7d3bfb2a"
      },
      "outputs": [],
      "source": [
        "# Erro médio Absoluto\n",
        "mean_absolute_error(y_teste, previsoes_teste)"
      ]
    },
    {
      "cell_type": "code",
      "execution_count": null,
      "metadata": {
        "colab": {
          "base_uri": "https://localhost:8080/"
        },
        "id": "O-Q6xhUc7qFJ",
        "outputId": "c606a24e-8920-42f3-80fa-d20ea1ec2cbc"
      },
      "outputs": [],
      "source": [
        "# Erro quadrático médio\n",
        "mean_squared_error(y_teste, previsoes_teste)"
      ]
    },
    {
      "cell_type": "code",
      "execution_count": null,
      "metadata": {
        "colab": {
          "base_uri": "https://localhost:8080/"
        },
        "id": "bRpWUvWg7qFK",
        "outputId": "8646045c-bcd7-4cd5-c15b-8667c91333e9"
      },
      "outputs": [],
      "source": [
        "# Raiz do erro quadrático médio (RMSE)\n",
        "np.sqrt(mean_squared_error(y_teste, previsoes_teste))"
      ]
    },
    {
      "cell_type": "markdown",
      "metadata": {
        "id": "N2mEiK4bR-5v"
      },
      "source": [
        "**RESULTADOS:**\n",
        "\n",
        "**REGRESSÃO LINEAR SIMPLES:** R^2 = 0,57/0,60; RMSE = 99315,5; R^2 Validação Cruzada: 55,97%\n",
        "\n",
        "**REGRESSÃO LINEAR MÚLTIPLA:** R^2 = 0,73/0,68; RMSE = 96087,3; R^2 Validação Cruzada: 69,25%\n",
        "\n",
        "**REGRESSÃO POLINOMIAL:** R^2 = 0,59/0,54; RMSE = 114670,6."
      ]
    },
    {
      "cell_type": "markdown",
      "metadata": {
        "id": "WX2KnLCzsq7u"
      },
      "source": [
        "## **REGRESSÃO POR VETORES DE SUPORTE**"
      ]
    },
    {
      "cell_type": "markdown",
      "metadata": {
        "id": "X5x2joIiP457"
      },
      "source": [
        "https://scikit-learn.org/stable/modules/generated/sklearn.svm.SVR.html "
      ]
    },
    {
      "cell_type": "code",
      "execution_count": null,
      "metadata": {
        "colab": {
          "base_uri": "https://localhost:8080/",
          "height": 112
        },
        "id": "YUF38EvVtCOS",
        "outputId": "fe756413-ab87-4096-c74c-5ad8911763d9"
      },
      "outputs": [],
      "source": [
        "df.head(2)"
      ]
    },
    {
      "cell_type": "code",
      "execution_count": null,
      "metadata": {
        "colab": {
          "base_uri": "https://localhost:8080/"
        },
        "id": "m1BCYoD6udBc",
        "outputId": "62eb5306-044c-4339-ef30-17180c9f2dae"
      },
      "outputs": [],
      "source": [
        "independente = df.iloc[:, 0:3].values\n",
        "independente"
      ]
    },
    {
      "cell_type": "code",
      "execution_count": null,
      "metadata": {
        "colab": {
          "base_uri": "https://localhost:8080/"
        },
        "id": "UrL64jazudBe",
        "outputId": "536c30be-a405-4d4c-998c-42de28b407c1"
      },
      "outputs": [],
      "source": [
        "independente.shape"
      ]
    },
    {
      "cell_type": "code",
      "execution_count": null,
      "metadata": {
        "id": "BZsXvQGQudBf"
      },
      "outputs": [],
      "source": [
        "dependente = df.iloc[:, 3].values\n",
        "dependente"
      ]
    },
    {
      "cell_type": "code",
      "execution_count": null,
      "metadata": {
        "id": "pJmPpACbudBf"
      },
      "outputs": [],
      "source": [
        "from sklearn.model_selection import train_test_split\n",
        "x_treino, x_teste, y_treino, y_teste = train_test_split(independente, dependente, test_size = 0.3, random_state = 0)"
      ]
    },
    {
      "cell_type": "code",
      "execution_count": null,
      "metadata": {
        "colab": {
          "base_uri": "https://localhost:8080/"
        },
        "id": "qEOTgfCnudBg",
        "outputId": "9f3abbd4-ab5f-4900-fb6f-e7d02f7c0ace"
      },
      "outputs": [],
      "source": [
        "x_treino.shape, x_teste.shape"
      ]
    },
    {
      "cell_type": "code",
      "execution_count": null,
      "metadata": {
        "colab": {
          "base_uri": "https://localhost:8080/"
        },
        "id": "ZmVCGt-BtGVO",
        "outputId": "9b792b5f-6d96-4eba-aaa7-cca7380fa9c5"
      },
      "outputs": [],
      "source": [
        "# kernel = rbf, linear, polinomial (poly)\n",
        "from sklearn.svm import SVR\n",
        "SVR = SVR(kernel='rbf')\n",
        "SVR.fit(x_treino,y_treino)"
      ]
    },
    {
      "cell_type": "code",
      "execution_count": null,
      "metadata": {
        "colab": {
          "base_uri": "https://localhost:8080/"
        },
        "id": "809lWfiEuMiV",
        "outputId": "00cecb1e-1b4e-4879-8e61-47166eafc7be"
      },
      "outputs": [],
      "source": [
        "SVR.score(x_treino, y_treino)"
      ]
    },
    {
      "cell_type": "code",
      "execution_count": null,
      "metadata": {
        "colab": {
          "base_uri": "https://localhost:8080/"
        },
        "id": "ZCcstZ8uuUq8",
        "outputId": "268b98a2-c1b8-4ad9-9c8b-4b214557dc90"
      },
      "outputs": [],
      "source": [
        "SVR.score(x_teste, y_teste)"
      ]
    },
    {
      "cell_type": "markdown",
      "metadata": {
        "id": "i0tdnZNhxRDj"
      },
      "source": [
        "**Padronização de escala**"
      ]
    },
    {
      "cell_type": "code",
      "execution_count": null,
      "metadata": {
        "id": "vIgPmXt8xRtk"
      },
      "outputs": [],
      "source": [
        "from sklearn.preprocessing import StandardScaler\n",
        "x_scaler = StandardScaler()\n",
        "x_treino_scaler = x_scaler.fit_transform(x_treino)"
      ]
    },
    {
      "cell_type": "code",
      "execution_count": null,
      "metadata": {
        "colab": {
          "base_uri": "https://localhost:8080/"
        },
        "id": "fc4OD6JdyVks",
        "outputId": "85506437-acc8-46e8-c1e3-7bc1410e8e87"
      },
      "outputs": [],
      "source": [
        "x_treino_scaler"
      ]
    },
    {
      "cell_type": "code",
      "execution_count": null,
      "metadata": {
        "id": "wyKhCzqexRy0"
      },
      "outputs": [],
      "source": [
        "y_scaler = StandardScaler()\n",
        "y_treino_scaler = y_scaler.fit_transform(y_treino.reshape(-1,1))"
      ]
    },
    {
      "cell_type": "code",
      "execution_count": null,
      "metadata": {
        "colab": {
          "base_uri": "https://localhost:8080/"
        },
        "id": "uyOhdquuyb2D",
        "outputId": "30e35c96-f582-41a9-d311-0589bf9fa6b3"
      },
      "outputs": [],
      "source": [
        "y_treino_scaler"
      ]
    },
    {
      "cell_type": "code",
      "execution_count": null,
      "metadata": {
        "id": "IsHYG6i7ygdg"
      },
      "outputs": [],
      "source": [
        "x_teste_scaler = x_scaler.transform(x_teste)\n",
        "x_teste_scaler"
      ]
    },
    {
      "cell_type": "code",
      "execution_count": null,
      "metadata": {
        "id": "P5QgpoYoy_Vq"
      },
      "outputs": [],
      "source": [
        "y_teste_scaler = y_scaler.transform(y_teste.reshape(-1,1))\n",
        "y_teste_scaler"
      ]
    },
    {
      "cell_type": "code",
      "execution_count": null,
      "metadata": {
        "colab": {
          "base_uri": "https://localhost:8080/"
        },
        "id": "oyhO5h_8zZVJ",
        "outputId": "9af5cc61-1599-4d3a-fd92-f5f86ff065f6"
      },
      "outputs": [],
      "source": [
        "from sklearn.svm import SVR\n",
        "SVR2 = SVR(kernel='rbf')\n",
        "SVR2.fit(x_treino_scaler, y_treino_scaler.ravel())\n",
        "\n",
        "# .ravel() é para retornar matriz 1D"
      ]
    },
    {
      "cell_type": "code",
      "execution_count": null,
      "metadata": {
        "colab": {
          "base_uri": "https://localhost:8080/"
        },
        "id": "-CfJcin_z0ZS",
        "outputId": "71ff4764-689b-4bf1-f72b-e5a1b39453ae"
      },
      "outputs": [],
      "source": [
        "SVR2.score(x_treino_scaler, y_treino_scaler)"
      ]
    },
    {
      "cell_type": "markdown",
      "metadata": {
        "id": "6fHv3HCV0c4U"
      },
      "source": [
        "**TESTE**"
      ]
    },
    {
      "cell_type": "code",
      "execution_count": null,
      "metadata": {
        "colab": {
          "base_uri": "https://localhost:8080/"
        },
        "id": "UkLzgWpV0cDv",
        "outputId": "be17d7a6-c6c4-4397-f2f7-0cc535428548"
      },
      "outputs": [],
      "source": [
        "SVR2.score(x_teste_scaler, y_teste_scaler)"
      ]
    },
    {
      "cell_type": "code",
      "execution_count": null,
      "metadata": {
        "id": "tIHtC0NF038o"
      },
      "outputs": [],
      "source": [
        "previsoes_teste = SVR2.predict(x_teste_scaler)\n",
        "previsoes_teste"
      ]
    },
    {
      "cell_type": "code",
      "execution_count": null,
      "metadata": {
        "id": "he5RYWCs1Cvl"
      },
      "outputs": [],
      "source": [
        "y_teste_scaler"
      ]
    },
    {
      "cell_type": "markdown",
      "metadata": {
        "id": "qXiWO2g21N4C"
      },
      "source": [
        "**Revertendo a transformação**"
      ]
    },
    {
      "cell_type": "code",
      "execution_count": null,
      "metadata": {
        "id": "YxYKJhda1QOQ"
      },
      "outputs": [],
      "source": [
        "y_teste_inverse = y_scaler.inverse_transform(y_teste_scaler)\n",
        "previsoes_inverse = y_scaler.inverse_transform(previsoes_teste.reshape(-1, 1))"
      ]
    },
    {
      "cell_type": "code",
      "execution_count": null,
      "metadata": {
        "id": "h5UWcx7U2O4R"
      },
      "outputs": [],
      "source": [
        "y_teste_inverse"
      ]
    },
    {
      "cell_type": "code",
      "execution_count": null,
      "metadata": {
        "id": "gzk4dY8b2RaH"
      },
      "outputs": [],
      "source": [
        "previsoes_inverse"
      ]
    },
    {
      "cell_type": "markdown",
      "metadata": {
        "id": "LIuZtYzy244V"
      },
      "source": [
        "**MÉTRICAS**"
      ]
    },
    {
      "cell_type": "code",
      "execution_count": null,
      "metadata": {
        "id": "xQObOvjP244W"
      },
      "outputs": [],
      "source": [
        "from sklearn.metrics import mean_absolute_error, mean_squared_error"
      ]
    },
    {
      "cell_type": "code",
      "execution_count": null,
      "metadata": {
        "colab": {
          "base_uri": "https://localhost:8080/"
        },
        "id": "4_JGDXQ_244X",
        "outputId": "260af89d-74f7-46f3-e644-f6a9731a67c2"
      },
      "outputs": [],
      "source": [
        "# Erro médio Absoluto\n",
        "mean_absolute_error(y_teste_inverse, previsoes_inverse)"
      ]
    },
    {
      "cell_type": "code",
      "execution_count": null,
      "metadata": {
        "colab": {
          "base_uri": "https://localhost:8080/"
        },
        "id": "FGawDh_o244Y",
        "outputId": "fbc496d2-79d1-44ce-c0ed-ca6653f07b77"
      },
      "outputs": [],
      "source": [
        "# Erro quadrático médio\n",
        "mean_squared_error(y_teste_inverse, previsoes_inverse)"
      ]
    },
    {
      "cell_type": "code",
      "execution_count": null,
      "metadata": {
        "colab": {
          "base_uri": "https://localhost:8080/"
        },
        "id": "5EwUUep7244Z",
        "outputId": "421b5f41-def6-4758-9ef3-a158a568152c"
      },
      "outputs": [],
      "source": [
        "# Raiz do erro quadrático médio (RMSE)\n",
        "np.sqrt(mean_squared_error(y_teste_inverse, previsoes_inverse))"
      ]
    },
    {
      "cell_type": "markdown",
      "metadata": {
        "id": "rHDzUmOb35hE"
      },
      "source": [
        "### **Validação Cruzada**"
      ]
    },
    {
      "cell_type": "markdown",
      "metadata": {
        "id": "ebxViZwY3_mH"
      },
      "source": [
        "**Padronização de escala**"
      ]
    },
    {
      "cell_type": "code",
      "execution_count": null,
      "metadata": {
        "id": "AIAuGipc3_mI"
      },
      "outputs": [],
      "source": [
        "from sklearn.preprocessing import StandardScaler\n",
        "x = StandardScaler()\n",
        "independente_scaler = x.fit_transform(independente)"
      ]
    },
    {
      "cell_type": "code",
      "execution_count": null,
      "metadata": {
        "colab": {
          "base_uri": "https://localhost:8080/"
        },
        "id": "RO4FhcYt3_mI",
        "outputId": "0d152dcd-30b5-480c-f482-08b3d89f4f7e"
      },
      "outputs": [],
      "source": [
        "independente_scaler"
      ]
    },
    {
      "cell_type": "code",
      "execution_count": null,
      "metadata": {
        "id": "y5khxbi53_mJ"
      },
      "outputs": [],
      "source": [
        "y = StandardScaler()\n",
        "dependente_scaler = y.fit_transform(dependente.reshape(-1,1))"
      ]
    },
    {
      "cell_type": "code",
      "execution_count": null,
      "metadata": {
        "id": "VFsyFWtC3gLe"
      },
      "outputs": [],
      "source": [
        "from sklearn.model_selection import KFold\n",
        "from sklearn.model_selection import cross_val_score"
      ]
    },
    {
      "cell_type": "code",
      "execution_count": null,
      "metadata": {
        "id": "AwKcmfAS3gLg"
      },
      "outputs": [],
      "source": [
        "# Separando os dados em folds\n",
        "kfold = KFold(n_splits = 15, shuffle=True, random_state = 5)"
      ]
    },
    {
      "cell_type": "code",
      "execution_count": null,
      "metadata": {
        "colab": {
          "base_uri": "https://localhost:8080/"
        },
        "id": "i8R3DHwF3gLg",
        "outputId": "23de34be-1575-49a4-8923-c557c62f34cc"
      },
      "outputs": [],
      "source": [
        "# Criando o modelo\n",
        "from sklearn.svm import SVR\n",
        "modelo = SVR(kernel='rbf')\n",
        "resultado = cross_val_score(modelo, independente_scaler, dependente_scaler.ravel(), cv = kfold)\n",
        "resultado"
      ]
    },
    {
      "cell_type": "code",
      "execution_count": null,
      "metadata": {
        "colab": {
          "base_uri": "https://localhost:8080/"
        },
        "id": "6xzv5UHd3gLh",
        "outputId": "ee712667-90ca-407a-cf80-72de804e5e33"
      },
      "outputs": [],
      "source": [
        "# Usamos a média e o desvio padrão\n",
        "print(\"Coeficiente de Determinação médio: %.2f%%\" % (resultado.mean() * 100.0))"
      ]
    },
    {
      "cell_type": "markdown",
      "metadata": {
        "id": "9uo9IM_V2nph"
      },
      "source": [
        "**RESULTADOS:**\n",
        "\n",
        "**REGRESSÃO LINEAR SIMPLES:** R^2 = 0,57/0,60; RMSE = 99315,5; R^2 Validação Cruzada: 55,97%\n",
        "\n",
        "**REGRESSÃO LINEAR MÚLTIPLA:** R^2 = 0,73/0,68; RMSE = 96087,3; R^2 Validação Cruzada: 69,25%\n",
        "\n",
        "**REGRESSÃO POLINOMIAL:** R^2 = 0,59/0,54; RMSE = 114670,6.\n",
        "\n",
        "**REGRESSÃO SVR:** R^2 = 0,87/0,81; RMSE = 73422,7. R^2 Validação Cruzada: 82,37%."
      ]
    },
    {
      "cell_type": "markdown",
      "metadata": {
        "id": "N3OZHJFl2npi"
      },
      "source": [
        "## **REGRESSÃO COM ÁRVORE DE DECISÃO**"
      ]
    },
    {
      "cell_type": "markdown",
      "metadata": {
        "id": "0tAem7qwPVhF"
      },
      "source": [
        "https://scikit-learn.org/stable/modules/tree.html#regression "
      ]
    },
    {
      "cell_type": "code",
      "execution_count": null,
      "metadata": {
        "colab": {
          "base_uri": "https://localhost:8080/",
          "height": 112
        },
        "id": "ka5_F-RwHkLb",
        "outputId": "4f4e5c72-fdd6-49ed-b53b-49f2a295cfad"
      },
      "outputs": [],
      "source": [
        "df.head(2)"
      ]
    },
    {
      "cell_type": "code",
      "execution_count": null,
      "metadata": {
        "colab": {
          "base_uri": "https://localhost:8080/"
        },
        "id": "PSvXJHP3HkLc",
        "outputId": "380cac3d-0175-4a08-aa63-243577445309"
      },
      "outputs": [],
      "source": [
        "independente = df.iloc[:, 0:3].values\n",
        "independente"
      ]
    },
    {
      "cell_type": "code",
      "execution_count": null,
      "metadata": {
        "colab": {
          "base_uri": "https://localhost:8080/"
        },
        "id": "x3JRhqbFHkLd",
        "outputId": "2f87a92b-204e-4e81-f40e-3fb70e26f605"
      },
      "outputs": [],
      "source": [
        "independente.shape"
      ]
    },
    {
      "cell_type": "code",
      "execution_count": null,
      "metadata": {
        "colab": {
          "base_uri": "https://localhost:8080/"
        },
        "id": "enBgBJlRHkLd",
        "outputId": "75a7a3dc-4be3-40b1-c36a-ec0fc8768462"
      },
      "outputs": [],
      "source": [
        "dependente = df.iloc[:, 3].values\n",
        "dependente"
      ]
    },
    {
      "cell_type": "code",
      "execution_count": null,
      "metadata": {
        "colab": {
          "base_uri": "https://localhost:8080/"
        },
        "id": "ChyvkvdhHy3l",
        "outputId": "d9f0be16-0535-46b4-9456-ac2c69ab83e3"
      },
      "outputs": [],
      "source": [
        "dependente.shape"
      ]
    },
    {
      "cell_type": "code",
      "execution_count": null,
      "metadata": {
        "id": "F66i09NYHkLe"
      },
      "outputs": [],
      "source": [
        "from sklearn.model_selection import train_test_split\n",
        "x_treino, x_teste, y_treino, y_teste = train_test_split(independente, dependente, test_size = 0.3, random_state = 0)"
      ]
    },
    {
      "cell_type": "code",
      "execution_count": null,
      "metadata": {
        "colab": {
          "base_uri": "https://localhost:8080/"
        },
        "id": "T59uRIMSHkLe",
        "outputId": "622ce02f-5d55-4b78-a068-f12455fbd4bb"
      },
      "outputs": [],
      "source": [
        "x_treino.shape, x_teste.shape"
      ]
    },
    {
      "cell_type": "code",
      "execution_count": null,
      "metadata": {
        "colab": {
          "base_uri": "https://localhost:8080/"
        },
        "id": "AGQ6_Yp8H8Jk",
        "outputId": "95989006-8040-45e2-daea-cb6a81169145"
      },
      "outputs": [],
      "source": [
        "y_treino.shape, y_teste.shape"
      ]
    },
    {
      "cell_type": "code",
      "execution_count": null,
      "metadata": {
        "colab": {
          "base_uri": "https://localhost:8080/"
        },
        "id": "xekvfhT7hWgM",
        "outputId": "cdb3824c-e754-4eca-9c90-6871566189a5"
      },
      "outputs": [],
      "source": [
        "from sklearn.tree import DecisionTreeRegressor\n",
        "arvore = DecisionTreeRegressor(max_depth=5, random_state=10)\n",
        "arvore.fit(x_treino, y_treino)"
      ]
    },
    {
      "cell_type": "code",
      "execution_count": null,
      "metadata": {
        "colab": {
          "base_uri": "https://localhost:8080/"
        },
        "id": "9N8PKjeLhnwm",
        "outputId": "09a40624-5799-465b-e520-a1486fc54a14"
      },
      "outputs": [],
      "source": [
        "arvore.score(x_treino, y_treino)"
      ]
    },
    {
      "cell_type": "markdown",
      "metadata": {
        "id": "-4H1NHKAMTMx"
      },
      "source": [
        "**TESTE**"
      ]
    },
    {
      "cell_type": "code",
      "execution_count": null,
      "metadata": {
        "colab": {
          "base_uri": "https://localhost:8080/"
        },
        "id": "fnRicPdUhtEV",
        "outputId": "f19c49e3-f941-4c67-eafc-205f4680a95e"
      },
      "outputs": [],
      "source": [
        "arvore.score(x_teste, y_teste)"
      ]
    },
    {
      "cell_type": "code",
      "execution_count": null,
      "metadata": {
        "id": "iUUoAtpBh3gv"
      },
      "outputs": [],
      "source": [
        "previsoes_teste = arvore.predict(x_teste)\n",
        "previsoes_teste"
      ]
    },
    {
      "cell_type": "code",
      "execution_count": null,
      "metadata": {
        "id": "AbwmfJgLh8wk"
      },
      "outputs": [],
      "source": [
        "y_teste"
      ]
    },
    {
      "cell_type": "markdown",
      "metadata": {
        "id": "lKWJ-81bMyZP"
      },
      "source": [
        "**MÉTRICAS**"
      ]
    },
    {
      "cell_type": "code",
      "execution_count": null,
      "metadata": {
        "id": "eAErxalxMyZQ"
      },
      "outputs": [],
      "source": [
        "from sklearn.metrics import mean_absolute_error, mean_squared_error"
      ]
    },
    {
      "cell_type": "code",
      "execution_count": null,
      "metadata": {
        "colab": {
          "base_uri": "https://localhost:8080/"
        },
        "id": "o7shpq0eMyZR",
        "outputId": "440531b3-06aa-41f7-a3d7-021542e38bee"
      },
      "outputs": [],
      "source": [
        "# Erro médio Absoluto\n",
        "mean_absolute_error(y_teste, previsoes_teste)"
      ]
    },
    {
      "cell_type": "code",
      "execution_count": null,
      "metadata": {
        "colab": {
          "base_uri": "https://localhost:8080/"
        },
        "id": "UCxNMPjvMyZS",
        "outputId": "9e427f16-6eaa-4690-8804-077beaa623c3"
      },
      "outputs": [],
      "source": [
        "# Erro quadrático médio\n",
        "mean_squared_error(y_teste, previsoes_teste)"
      ]
    },
    {
      "cell_type": "code",
      "execution_count": null,
      "metadata": {
        "colab": {
          "base_uri": "https://localhost:8080/"
        },
        "id": "-i_NBmScMyZS",
        "outputId": "13238b82-ba41-43b5-890f-a1fe0cd9c068"
      },
      "outputs": [],
      "source": [
        "# Raiz do erro quadrático médio (RMSE)\n",
        "np.sqrt(mean_squared_error(y_teste, previsoes_teste))"
      ]
    },
    {
      "cell_type": "markdown",
      "metadata": {
        "id": "KlGC2Y7eNJIH"
      },
      "source": [
        "### **Validação Cruzada**"
      ]
    },
    {
      "cell_type": "code",
      "execution_count": null,
      "metadata": {
        "id": "_uZCiCebNJII"
      },
      "outputs": [],
      "source": [
        "from sklearn.model_selection import KFold\n",
        "from sklearn.model_selection import cross_val_score"
      ]
    },
    {
      "cell_type": "code",
      "execution_count": null,
      "metadata": {
        "id": "dzXlSwOHNJIJ"
      },
      "outputs": [],
      "source": [
        "# Separando os dados em folds\n",
        "kfold = KFold(n_splits = 15, shuffle=True, random_state = 5)"
      ]
    },
    {
      "cell_type": "code",
      "execution_count": null,
      "metadata": {
        "colab": {
          "base_uri": "https://localhost:8080/"
        },
        "id": "JOzI7g_kNJIJ",
        "outputId": "de682c61-5b1a-4f7b-ed4f-905962d9bda3"
      },
      "outputs": [],
      "source": [
        "# Criando o modelo\n",
        "from sklearn.tree import DecisionTreeRegressor\n",
        "modelo = DecisionTreeRegressor(max_depth=5, random_state=10)\n",
        "resultado = cross_val_score(modelo, independente, dependente, cv = kfold)\n",
        "resultado"
      ]
    },
    {
      "cell_type": "code",
      "execution_count": null,
      "metadata": {
        "colab": {
          "base_uri": "https://localhost:8080/"
        },
        "id": "k9_kKBtYNJIK",
        "outputId": "a8ef3c7d-7dd1-4cdf-c747-abc8a8b5f014"
      },
      "outputs": [],
      "source": [
        "# Usamos a média e o desvio padrão\n",
        "print(\"Coeficiente de Determinação Médio: %.2f%%\" % (resultado.mean() * 100.0))"
      ]
    },
    {
      "cell_type": "markdown",
      "metadata": {
        "id": "T-iYcZo4NJIL"
      },
      "source": [
        "**RESULTADOS:**\n",
        "\n",
        "**REGRESSÃO LINEAR SIMPLES:** R^2 = 0,57/0,60; RMSE = 99315,5; R^2 Validação Cruzada: 55,97%\n",
        "\n",
        "**REGRESSÃO LINEAR MÚLTIPLA:** R^2 = 0,73/0,68; RMSE = 96087,3; R^2 Validação Cruzada: 69,25%\n",
        "\n",
        "**REGRESSÃO POLINOMIAL:** R^2 = 0,59/0,54; RMSE = 114670,6.\n",
        "\n",
        "**REGRESSÃO SVR:** R^2 = 0,87/0,81; RMSE = 73422,7. R^2 Validação Cruzada: 82,37%.\n",
        "\n",
        "**REGRESSÃO ÁRVORE DE DECISÃO:** R^2 = 0,91/0,83; RMSE = 71114,5. R^2 Validação Cruzada: 74,60%."
      ]
    },
    {
      "cell_type": "markdown",
      "metadata": {
        "id": "em7docfu_mvB"
      },
      "source": [
        "## **REGRESSÃO COM RANDOM FOREST**"
      ]
    },
    {
      "cell_type": "markdown",
      "metadata": {
        "id": "XxohwrvT_xVI"
      },
      "source": [
        "https://scikit-learn.org/stable/modules/generated/sklearn.ensemble.RandomForestRegressor.html "
      ]
    },
    {
      "cell_type": "code",
      "execution_count": null,
      "metadata": {
        "colab": {
          "base_uri": "https://localhost:8080/",
          "height": 112
        },
        "id": "BreuwClMAqSa",
        "outputId": "b7105e80-b12d-44dd-b615-b987c0ae5eff"
      },
      "outputs": [],
      "source": [
        "df.head(2)"
      ]
    },
    {
      "cell_type": "code",
      "execution_count": null,
      "metadata": {
        "colab": {
          "base_uri": "https://localhost:8080/"
        },
        "id": "L9IfgWrjAqSb",
        "outputId": "750b5084-d0c4-491b-d4e0-2fdce507012d"
      },
      "outputs": [],
      "source": [
        "independente = df.iloc[:, 0:3].values\n",
        "independente"
      ]
    },
    {
      "cell_type": "code",
      "execution_count": null,
      "metadata": {
        "colab": {
          "base_uri": "https://localhost:8080/"
        },
        "id": "fzFtVk9JAqSc",
        "outputId": "e71c5fb3-145f-4da4-c5d1-078a82932d0d"
      },
      "outputs": [],
      "source": [
        "independente.shape"
      ]
    },
    {
      "cell_type": "code",
      "execution_count": null,
      "metadata": {
        "id": "dPZbKG7yAqSd"
      },
      "outputs": [],
      "source": [
        "dependente = df.iloc[:, 3].values\n",
        "dependente"
      ]
    },
    {
      "cell_type": "code",
      "execution_count": null,
      "metadata": {
        "colab": {
          "base_uri": "https://localhost:8080/"
        },
        "id": "mKrN8FpVAqSe",
        "outputId": "c1d81108-8bf2-4fce-ec46-a682cb5944af"
      },
      "outputs": [],
      "source": [
        "dependente.shape"
      ]
    },
    {
      "cell_type": "code",
      "execution_count": null,
      "metadata": {
        "id": "FBV-LWNCAqSe"
      },
      "outputs": [],
      "source": [
        "from sklearn.model_selection import train_test_split\n",
        "x_treino, x_teste, y_treino, y_teste = train_test_split(independente, dependente, test_size = 0.3, random_state = 0)"
      ]
    },
    {
      "cell_type": "code",
      "execution_count": null,
      "metadata": {
        "colab": {
          "base_uri": "https://localhost:8080/"
        },
        "id": "smtq2nvRAqSf",
        "outputId": "8df593ad-024c-447e-a361-16449a607c18"
      },
      "outputs": [],
      "source": [
        "x_treino.shape, x_teste.shape"
      ]
    },
    {
      "cell_type": "code",
      "execution_count": null,
      "metadata": {
        "colab": {
          "base_uri": "https://localhost:8080/"
        },
        "id": "cmGJ3PJVAqSf",
        "outputId": "865c0a5a-16b0-4015-e179-b1576fce81cb"
      },
      "outputs": [],
      "source": [
        "y_treino.shape, y_teste.shape"
      ]
    },
    {
      "cell_type": "code",
      "execution_count": null,
      "metadata": {
        "id": "jq-8R7XpB9f3"
      },
      "outputs": [],
      "source": [
        "from sklearn.ensemble import RandomForestRegressor"
      ]
    },
    {
      "cell_type": "code",
      "execution_count": null,
      "metadata": {
        "colab": {
          "base_uri": "https://localhost:8080/"
        },
        "id": "6dN6ggkVBHH4",
        "outputId": "0a4e5001-4157-4aeb-c04a-89444d9700f5"
      },
      "outputs": [],
      "source": [
        "random = RandomForestRegressor(n_estimators=60, criterion='squared_error', max_depth=5, random_state = 10)\n",
        "random.fit(x_treino, y_treino)"
      ]
    },
    {
      "cell_type": "code",
      "execution_count": null,
      "metadata": {
        "colab": {
          "base_uri": "https://localhost:8080/"
        },
        "id": "RtbJdyMVBHH6",
        "outputId": "3697c31d-dd98-415a-9a97-72fe0349f5d9"
      },
      "outputs": [],
      "source": [
        "random.score(x_treino, y_treino)"
      ]
    },
    {
      "cell_type": "markdown",
      "metadata": {
        "id": "l6-F9ZQxBHH7"
      },
      "source": [
        "**TESTE**"
      ]
    },
    {
      "cell_type": "code",
      "execution_count": null,
      "metadata": {
        "colab": {
          "base_uri": "https://localhost:8080/"
        },
        "id": "gBApN-jaBHH7",
        "outputId": "4922af12-a018-46df-821a-c1cc5f03b04b"
      },
      "outputs": [],
      "source": [
        "random.score(x_teste, y_teste)"
      ]
    },
    {
      "cell_type": "code",
      "execution_count": null,
      "metadata": {
        "colab": {
          "base_uri": "https://localhost:8080/"
        },
        "id": "Y51B43YTBHH8",
        "outputId": "41c15dc9-b9dc-422c-b078-6be13afcac95"
      },
      "outputs": [],
      "source": [
        "previsoes_teste = random.predict(x_teste)\n",
        "previsoes_teste"
      ]
    },
    {
      "cell_type": "code",
      "execution_count": null,
      "metadata": {
        "colab": {
          "base_uri": "https://localhost:8080/"
        },
        "id": "B48-pZ7eBHH9",
        "outputId": "28cf9dd9-656f-4ae5-beec-11643f447635"
      },
      "outputs": [],
      "source": [
        "y_teste"
      ]
    },
    {
      "cell_type": "markdown",
      "metadata": {
        "id": "l1m3gPLhBHH9"
      },
      "source": [
        "**MÉTRICAS**"
      ]
    },
    {
      "cell_type": "code",
      "execution_count": null,
      "metadata": {
        "id": "x-D_BJZ-BHH9"
      },
      "outputs": [],
      "source": [
        "from sklearn.metrics import mean_absolute_error, mean_squared_error"
      ]
    },
    {
      "cell_type": "code",
      "execution_count": null,
      "metadata": {
        "colab": {
          "base_uri": "https://localhost:8080/"
        },
        "id": "wvRaZ50aBHH-",
        "outputId": "9c6e9d3c-7ede-41b8-8f64-f5b63af0d3bf"
      },
      "outputs": [],
      "source": [
        "# Erro médio Absoluto\n",
        "mean_absolute_error(y_teste, previsoes_teste)"
      ]
    },
    {
      "cell_type": "code",
      "execution_count": null,
      "metadata": {
        "colab": {
          "base_uri": "https://localhost:8080/"
        },
        "id": "Fjju8AAbBHH_",
        "outputId": "fcf1cf89-250d-480e-93d1-c33196d4d47e"
      },
      "outputs": [],
      "source": [
        "# Erro quadrático médio\n",
        "mean_squared_error(y_teste, previsoes_teste)"
      ]
    },
    {
      "cell_type": "code",
      "execution_count": null,
      "metadata": {
        "colab": {
          "base_uri": "https://localhost:8080/"
        },
        "id": "L_4yAmxxBHH_",
        "outputId": "e7662369-13aa-42c0-d318-4055c35fd4de"
      },
      "outputs": [],
      "source": [
        "# Raiz do erro quadrático médio (RMSE)\n",
        "np.sqrt(mean_squared_error(y_teste, previsoes_teste))"
      ]
    },
    {
      "cell_type": "markdown",
      "metadata": {
        "id": "mLyVoeblBHIA"
      },
      "source": [
        "### **Validação Cruzada**"
      ]
    },
    {
      "cell_type": "code",
      "execution_count": null,
      "metadata": {
        "id": "TQiW7o6mBHIA"
      },
      "outputs": [],
      "source": [
        "from sklearn.model_selection import KFold\n",
        "from sklearn.model_selection import cross_val_score"
      ]
    },
    {
      "cell_type": "code",
      "execution_count": null,
      "metadata": {
        "id": "u6c0cLchBHIB"
      },
      "outputs": [],
      "source": [
        "# Separando os dados em folds\n",
        "kfold = KFold(n_splits = 15, shuffle=True, random_state = 5)"
      ]
    },
    {
      "cell_type": "code",
      "execution_count": null,
      "metadata": {
        "colab": {
          "base_uri": "https://localhost:8080/"
        },
        "id": "bfcTtlMtBHIB",
        "outputId": "38a5bc16-7010-4596-c963-360415d46cf9"
      },
      "outputs": [],
      "source": [
        "# Criando o modelo\n",
        "from sklearn.ensemble import RandomForestRegressor\n",
        "modelo = RandomForestRegressor(n_estimators=60, criterion='squared_error', max_depth=5, random_state = 10)\n",
        "resultado = cross_val_score(modelo, independente, dependente, cv = kfold)\n",
        "resultado"
      ]
    },
    {
      "cell_type": "code",
      "execution_count": null,
      "metadata": {
        "colab": {
          "base_uri": "https://localhost:8080/"
        },
        "id": "k8dR6MeCBHIC",
        "outputId": "a460b720-5ef2-42e3-e998-4e755a922fed"
      },
      "outputs": [],
      "source": [
        "# Usamos a média e o desvio padrão\n",
        "print(\"Coeficiente de Determinação Médio: %.2f%%\" % (resultado.mean() * 100.0))"
      ]
    },
    {
      "cell_type": "markdown",
      "metadata": {
        "id": "-5fEdSH-BHIC"
      },
      "source": [
        "**RESULTADOS:**\n",
        "\n",
        "**REGRESSÃO LINEAR SIMPLES:** R^2 = 0,57/0,60; RMSE = 99315,5; R^2 Validação Cruzada: 55,97%\n",
        "\n",
        "**REGRESSÃO LINEAR MÚLTIPLA:** R^2 = 0,73/0,68; RMSE = 96087,3; R^2 Validação Cruzada: 69,25%\n",
        "\n",
        "**REGRESSÃO POLINOMIAL:** R^2 = 0,59/0,54; RMSE = 114670,6.\n",
        "\n",
        "**REGRESSÃO SVR:** R^2 = 0,87/0,81; RMSE = 73422,7. R^2 Validação Cruzada: 82,37%.\n",
        "\n",
        "**REGRESSÃO ÁRVORE DE DECISÃO:** R^2 = 0,91/0,83; RMSE = 71114,5. R^2 Validação Cruzada: 74,60%.\n",
        "\n",
        "**REGRESSÃO COM RANDOM FOREST:** R^2 = 0,92/0,85; RMSE = 66729,3. R^2 Validação Cruzada: 82,85%."
      ]
    },
    {
      "cell_type": "markdown",
      "metadata": {
        "id": "texm7_wzD3ZN"
      },
      "source": [
        "## **REGRESSÃO COM XGBOOST**"
      ]
    },
    {
      "cell_type": "markdown",
      "metadata": {
        "id": "9bFhbBKgEnmc"
      },
      "source": [
        "https://xgboost.readthedocs.io/en/latest/python/python_api.html#xgboost.XGBRegressor "
      ]
    },
    {
      "cell_type": "code",
      "execution_count": null,
      "metadata": {
        "colab": {
          "base_uri": "https://localhost:8080/",
          "height": 112
        },
        "id": "S1kDY4K6LZ3o",
        "outputId": "d3610d6d-1aec-4103-e6db-a1058eb1f83c"
      },
      "outputs": [],
      "source": [
        "df.head(2)"
      ]
    },
    {
      "cell_type": "code",
      "execution_count": null,
      "metadata": {
        "colab": {
          "base_uri": "https://localhost:8080/"
        },
        "id": "gJxxUoJfLZ3q",
        "outputId": "7721f825-78ae-4255-92da-cd4ef457d080"
      },
      "outputs": [],
      "source": [
        "independente = df.iloc[:, 0:3].values\n",
        "independente"
      ]
    },
    {
      "cell_type": "code",
      "execution_count": null,
      "metadata": {
        "colab": {
          "base_uri": "https://localhost:8080/"
        },
        "id": "X748p6-1LZ3r",
        "outputId": "7e474144-b08e-4f76-de7c-f8e371ab48bc"
      },
      "outputs": [],
      "source": [
        "independente.shape"
      ]
    },
    {
      "cell_type": "code",
      "execution_count": null,
      "metadata": {
        "id": "T6PtTe5SLZ3r"
      },
      "outputs": [],
      "source": [
        "dependente = df.iloc[:, 3].values"
      ]
    },
    {
      "cell_type": "code",
      "execution_count": null,
      "metadata": {
        "colab": {
          "base_uri": "https://localhost:8080/"
        },
        "id": "IVvAP3tJLZ3s",
        "outputId": "efbb01cd-e5ed-4bb7-debc-39f5dd71e3b4"
      },
      "outputs": [],
      "source": [
        "dependente.shape"
      ]
    },
    {
      "cell_type": "code",
      "execution_count": null,
      "metadata": {
        "id": "-R3GlRD8LZ3s"
      },
      "outputs": [],
      "source": [
        "from sklearn.model_selection import train_test_split\n",
        "x_treino, x_teste, y_treino, y_teste = train_test_split(independente, dependente, test_size = 0.3, random_state = 0)"
      ]
    },
    {
      "cell_type": "code",
      "execution_count": null,
      "metadata": {
        "colab": {
          "base_uri": "https://localhost:8080/"
        },
        "id": "2ZOzrZh1LZ3t",
        "outputId": "fe8062ed-59c3-4c68-a38a-a596e6bfa38a"
      },
      "outputs": [],
      "source": [
        "x_treino.shape, x_teste.shape"
      ]
    },
    {
      "cell_type": "code",
      "execution_count": null,
      "metadata": {
        "id": "gXsNjojnEoyA"
      },
      "outputs": [],
      "source": [
        "from xgboost import XGBRegressor"
      ]
    },
    {
      "cell_type": "code",
      "execution_count": null,
      "metadata": {
        "colab": {
          "base_uri": "https://localhost:8080/"
        },
        "id": "ggIQN7N9LZ3v",
        "outputId": "fd727ff3-19cf-4c86-e9c0-2747f76cb95c"
      },
      "outputs": [],
      "source": [
        "xgboost = XGBRegressor(n_estimators=180, max_depth=3, learning_rate=0.05, objective=\"reg:squarederror\", random_state=10)\n",
        "xgboost.fit(x_treino, y_treino)"
      ]
    },
    {
      "cell_type": "code",
      "execution_count": null,
      "metadata": {
        "colab": {
          "base_uri": "https://localhost:8080/"
        },
        "id": "qGniar4pLZ3v",
        "outputId": "e667d301-0212-433a-a100-8bcf50def0b4"
      },
      "outputs": [],
      "source": [
        "xgboost.score(x_treino, y_treino)"
      ]
    },
    {
      "cell_type": "markdown",
      "metadata": {
        "id": "Ag0SWRYdLZ3w"
      },
      "source": [
        "**TESTE**"
      ]
    },
    {
      "cell_type": "code",
      "execution_count": null,
      "metadata": {
        "colab": {
          "base_uri": "https://localhost:8080/"
        },
        "id": "gPggEGb0LZ3w",
        "outputId": "41226565-7edd-4f2e-8ae6-87556aab9a81"
      },
      "outputs": [],
      "source": [
        "xgboost.score(x_teste, y_teste)"
      ]
    },
    {
      "cell_type": "code",
      "execution_count": null,
      "metadata": {
        "id": "LZ7WLVF4LZ3x"
      },
      "outputs": [],
      "source": [
        "previsoes_teste = xgboost.predict(x_teste)"
      ]
    },
    {
      "cell_type": "code",
      "execution_count": null,
      "metadata": {
        "colab": {
          "base_uri": "https://localhost:8080/"
        },
        "id": "qXY1DEm2TPrs",
        "outputId": "5ab4c525-6521-428a-bf06-3525a04f0e43"
      },
      "outputs": [],
      "source": [
        "# Fazendo previsões para valores distintos\n",
        "valor_casa = xgboost.predict([[6,20,12]])\n",
        "valor_casa"
      ]
    },
    {
      "cell_type": "markdown",
      "metadata": {
        "id": "eupiQ6n9LZ3y"
      },
      "source": [
        "**MÉTRICAS**"
      ]
    },
    {
      "cell_type": "code",
      "execution_count": null,
      "metadata": {
        "id": "mNFhiP0nLZ3z"
      },
      "outputs": [],
      "source": [
        "from sklearn.metrics import mean_absolute_error, mean_squared_error"
      ]
    },
    {
      "cell_type": "code",
      "execution_count": null,
      "metadata": {
        "colab": {
          "base_uri": "https://localhost:8080/"
        },
        "id": "ptcF4Z3QLZ3z",
        "outputId": "80197b3e-ba36-410a-fd6a-046258677637"
      },
      "outputs": [],
      "source": [
        "# Erro médio Absoluto\n",
        "mean_absolute_error(y_teste, previsoes_teste)"
      ]
    },
    {
      "cell_type": "code",
      "execution_count": null,
      "metadata": {
        "colab": {
          "base_uri": "https://localhost:8080/"
        },
        "id": "UW9rH3WyLZ30",
        "outputId": "8bbbcf2b-abc9-4dbe-b74e-212d7f46edcc"
      },
      "outputs": [],
      "source": [
        "# Raiz do erro quadrático médio (RMSE)\n",
        "np.sqrt(mean_squared_error(y_teste, previsoes_teste))"
      ]
    },
    {
      "cell_type": "markdown",
      "metadata": {
        "id": "mopLhYaKLZ31"
      },
      "source": [
        "### **Validação Cruzada**"
      ]
    },
    {
      "cell_type": "code",
      "execution_count": null,
      "metadata": {
        "id": "EW9FdkEELZ31"
      },
      "outputs": [],
      "source": [
        "from sklearn.model_selection import KFold\n",
        "from sklearn.model_selection import cross_val_score"
      ]
    },
    {
      "cell_type": "code",
      "execution_count": null,
      "metadata": {
        "id": "-duD4L-4LZ32"
      },
      "outputs": [],
      "source": [
        "# Separando os dados em folds\n",
        "kfold = KFold(n_splits = 15, shuffle=True, random_state = 5)"
      ]
    },
    {
      "cell_type": "code",
      "execution_count": null,
      "metadata": {
        "colab": {
          "base_uri": "https://localhost:8080/"
        },
        "id": "KTJuA6GpLZ32",
        "outputId": "fe621e8a-a05e-4705-c034-479e35240ee1"
      },
      "outputs": [],
      "source": [
        "# Criando o modelo\n",
        "from xgboost import XGBRegressor\n",
        "modelo = XGBRegressor(n_estimators=180, max_depth=3, learning_rate=0.05, objective = \"reg:squarederror\")\n",
        "resultado = cross_val_score(modelo, independente, dependente, cv = kfold)\n",
        "resultado"
      ]
    },
    {
      "cell_type": "code",
      "execution_count": null,
      "metadata": {
        "colab": {
          "base_uri": "https://localhost:8080/"
        },
        "id": "6OLrwVIQLZ33",
        "outputId": "b71259c3-fe1d-4f2e-c682-74d5978a8627"
      },
      "outputs": [],
      "source": [
        "# Usamos a média e o desvio padrão\n",
        "print(\"Coeficiente de determinação Médio: %.2f%%\" % (resultado.mean() * 100.0))"
      ]
    },
    {
      "cell_type": "markdown",
      "metadata": {
        "id": "y4gwkctLLZ33"
      },
      "source": [
        "**RESULTADOS:**\n",
        "\n",
        "**REGRESSÃO LINEAR SIMPLES:** R^2 = 0,57/0,60; RMSE = 99315,5; R^2 Validação Cruzada: 55,97%\n",
        "\n",
        "**REGRESSÃO LINEAR MÚLTIPLA:** R^2 = 0,73/0,68; RMSE = 96087,3; R^2 Validação Cruzada: 69,25%\n",
        "\n",
        "**REGRESSÃO POLINOMIAL:** R^2 = 0,59/0,54; RMSE = 114670,6.\n",
        "\n",
        "**REGRESSÃO SVR:** R^2 = 0,87/0,81; RMSE = 73422,7. R^2 Validação Cruzada: 82,37%.\n",
        "\n",
        "**REGRESSÃO ÁRVORE DE DECISÃO:** R^2 = 0,91/0,83; RMSE = 71114,5. R^2 Validação Cruzada: 74,60%.\n",
        "\n",
        "**REGRESSÃO COM RANDOM FOREST:** R^2 = 0,92/0,85; RMSE = 66729,3. R^2 Validação Cruzada: 82,85%.\n",
        "\n",
        "**REGRESSÃO COM XGBOOST:** R^2 = 0,93/0,84; RMSE = 67788,8. R^2 Validação Cruzada: 83,22%."
      ]
    },
    {
      "cell_type": "markdown",
      "metadata": {
        "id": "5Ml9LC8_P_Us"
      },
      "source": [
        "## **REGRESSÃO COM LIGHT GBM**"
      ]
    },
    {
      "cell_type": "markdown",
      "metadata": {
        "id": "sLqV3RvmQHiI"
      },
      "source": [
        "https://lightgbm.readthedocs.io/en/latest/pythonapi/lightgbm.LGBMRegressor.html "
      ]
    },
    {
      "cell_type": "code",
      "execution_count": null,
      "metadata": {
        "colab": {
          "base_uri": "https://localhost:8080/"
        },
        "id": "hqvRU7h6Q9oc",
        "outputId": "b5f85a50-182d-4154-cb3e-5e233280e5be"
      },
      "outputs": [],
      "source": [
        "# Instalação do Algoritmo\n",
        "!pip install lightgbm"
      ]
    },
    {
      "cell_type": "code",
      "execution_count": null,
      "metadata": {
        "colab": {
          "base_uri": "https://localhost:8080/",
          "height": 112
        },
        "id": "TmOsSq05QgB0",
        "outputId": "734b68c2-a884-4ebb-f3f7-67fa5ca0dd96"
      },
      "outputs": [],
      "source": [
        "df.head(2)"
      ]
    },
    {
      "cell_type": "code",
      "execution_count": null,
      "metadata": {
        "colab": {
          "base_uri": "https://localhost:8080/"
        },
        "id": "zyubjorGQgB2",
        "outputId": "daa4130d-00c7-42c8-8519-b4cb09bea4db"
      },
      "outputs": [],
      "source": [
        "independente = df.iloc[:, 0:3].values\n",
        "independente"
      ]
    },
    {
      "cell_type": "code",
      "execution_count": null,
      "metadata": {
        "colab": {
          "base_uri": "https://localhost:8080/"
        },
        "id": "r08QXJHHQgB2",
        "outputId": "f8898270-9245-4611-8126-5ef1198fed52"
      },
      "outputs": [],
      "source": [
        "independente.shape"
      ]
    },
    {
      "cell_type": "code",
      "execution_count": null,
      "metadata": {
        "id": "mWxdToSwQgB3"
      },
      "outputs": [],
      "source": [
        "dependente = df.iloc[:, 3].values"
      ]
    },
    {
      "cell_type": "code",
      "execution_count": null,
      "metadata": {
        "colab": {
          "base_uri": "https://localhost:8080/"
        },
        "id": "G6Rvs0KHQgB4",
        "outputId": "e825ce14-d5a9-4704-fe4b-7b868b3f7cdc"
      },
      "outputs": [],
      "source": [
        "dependente.shape"
      ]
    },
    {
      "cell_type": "code",
      "execution_count": null,
      "metadata": {
        "id": "uaWSEem8QgB4"
      },
      "outputs": [],
      "source": [
        "from sklearn.model_selection import train_test_split\n",
        "x_treino, x_teste, y_treino, y_teste = train_test_split(independente, dependente, test_size = 0.3, random_state = 0)"
      ]
    },
    {
      "cell_type": "code",
      "execution_count": null,
      "metadata": {
        "colab": {
          "base_uri": "https://localhost:8080/"
        },
        "id": "dgMg2ZJ2QgB5",
        "outputId": "bf338c0c-262a-4e08-de39-bb107751b263"
      },
      "outputs": [],
      "source": [
        "x_treino.shape, x_teste.shape"
      ]
    },
    {
      "cell_type": "code",
      "execution_count": null,
      "metadata": {
        "id": "q4V61kANQgB5"
      },
      "outputs": [],
      "source": [
        "import lightgbm as lgb"
      ]
    },
    {
      "cell_type": "code",
      "execution_count": null,
      "metadata": {
        "colab": {
          "base_uri": "https://localhost:8080/"
        },
        "id": "Sk8UBLYrQgB6",
        "outputId": "407696bf-ae9f-4784-aecc-e41b1555393c"
      },
      "outputs": [],
      "source": [
        "lgbm = lgb.LGBMRegressor(num_leaves=50, max_depth=3, learning_rate=0.1, n_estimators=50, random_state=10)\n",
        "lgbm.fit(x_treino, y_treino)"
      ]
    },
    {
      "cell_type": "code",
      "execution_count": null,
      "metadata": {
        "colab": {
          "base_uri": "https://localhost:8080/"
        },
        "id": "-fk3JlxnQgB6",
        "outputId": "7fb81c5a-f0b9-4e5e-e20e-bf5c8bde7769"
      },
      "outputs": [],
      "source": [
        "lgbm.score(x_treino, y_treino)"
      ]
    },
    {
      "cell_type": "markdown",
      "metadata": {
        "id": "6vaV_m3fQgB7"
      },
      "source": [
        "**TESTE**"
      ]
    },
    {
      "cell_type": "code",
      "execution_count": null,
      "metadata": {
        "colab": {
          "base_uri": "https://localhost:8080/"
        },
        "id": "0e_-0p0EQgB7",
        "outputId": "8fa5f6ae-739a-4b8f-a1f6-5f2a3be54e77"
      },
      "outputs": [],
      "source": [
        "lgbm.score(x_teste, y_teste)"
      ]
    },
    {
      "cell_type": "code",
      "execution_count": null,
      "metadata": {
        "id": "SuRMp_IuQgB8"
      },
      "outputs": [],
      "source": [
        "previsoes_teste = lgbm.predict(x_teste)"
      ]
    },
    {
      "cell_type": "code",
      "execution_count": null,
      "metadata": {
        "colab": {
          "base_uri": "https://localhost:8080/"
        },
        "id": "vHgIjE5hTYEW",
        "outputId": "59b2cb5e-4170-4255-bf3c-0a8c55585064"
      },
      "outputs": [],
      "source": [
        "# Fazendo previsões para valores distintos\n",
        "valor_casa = lgbm.predict([[8,12,25]])\n",
        "valor_casa"
      ]
    },
    {
      "cell_type": "markdown",
      "metadata": {
        "id": "TB4eq5DYQgB8"
      },
      "source": [
        "**MÉTRICAS**"
      ]
    },
    {
      "cell_type": "code",
      "execution_count": null,
      "metadata": {
        "id": "bUuxOSjGQgB9"
      },
      "outputs": [],
      "source": [
        "from sklearn.metrics import mean_absolute_error, mean_squared_error"
      ]
    },
    {
      "cell_type": "code",
      "execution_count": null,
      "metadata": {
        "colab": {
          "base_uri": "https://localhost:8080/"
        },
        "id": "oD4PttzoQgB9",
        "outputId": "154d43cf-f75e-4cf8-b19a-0cb527175060"
      },
      "outputs": [],
      "source": [
        "# Erro médio Absoluto\n",
        "mean_absolute_error(y_teste, previsoes_teste)"
      ]
    },
    {
      "cell_type": "code",
      "execution_count": null,
      "metadata": {
        "colab": {
          "base_uri": "https://localhost:8080/"
        },
        "id": "Dql6Ds3rQgB-",
        "outputId": "16c1e22d-5f0e-42c3-df84-2292a0f4a17d"
      },
      "outputs": [],
      "source": [
        "# Raiz do erro quadrático médio (RMSE)\n",
        "np.sqrt(mean_squared_error(y_teste, previsoes_teste))"
      ]
    },
    {
      "cell_type": "markdown",
      "metadata": {
        "id": "HiSSyx4qQgB_"
      },
      "source": [
        "### **Validação Cruzada**"
      ]
    },
    {
      "cell_type": "code",
      "execution_count": null,
      "metadata": {
        "id": "qoP8WdOAQgB_"
      },
      "outputs": [],
      "source": [
        "from sklearn.model_selection import KFold\n",
        "from sklearn.model_selection import cross_val_score"
      ]
    },
    {
      "cell_type": "code",
      "execution_count": null,
      "metadata": {
        "id": "OiBBJQ5oQgCA"
      },
      "outputs": [],
      "source": [
        "# Separando os dados em folds\n",
        "kfold = KFold(n_splits = 15, shuffle=True, random_state = 5)"
      ]
    },
    {
      "cell_type": "code",
      "execution_count": null,
      "metadata": {
        "colab": {
          "base_uri": "https://localhost:8080/"
        },
        "id": "yzpxQlPpQgCA",
        "outputId": "607a1c9b-fd69-4114-e44d-5aed6e1a0940"
      },
      "outputs": [],
      "source": [
        "# Criando o modelo\n",
        "import lightgbm as lgb\n",
        "modelo = lgb.LGBMRegressor(num_leaves=50, max_depth=3, learning_rate=0.1, n_estimators=50)\n",
        "resultado = cross_val_score(modelo, independente, dependente, cv = kfold)\n",
        "resultado"
      ]
    },
    {
      "cell_type": "code",
      "execution_count": null,
      "metadata": {
        "colab": {
          "base_uri": "https://localhost:8080/"
        },
        "id": "eDE7L7RBQgCB",
        "outputId": "10ca6d63-fb32-4b2c-cd5e-c19e58e66cef"
      },
      "outputs": [],
      "source": [
        "# Usamos a média e o desvio padrão\n",
        "print(\"Coeficiente de Determinação Médio: %.2f%%\" % (resultado.mean() * 100.0))"
      ]
    },
    {
      "cell_type": "markdown",
      "metadata": {
        "id": "vxcj5kwGQgCC"
      },
      "source": [
        "**RESULTADOS:**\n",
        "\n",
        "**REGRESSÃO LINEAR SIMPLES:** R^2 = 0,57/0,60; RMSE = 99315,5; R^2 Validação Cruzada: 55,97%\n",
        "\n",
        "**REGRESSÃO LINEAR MÚLTIPLA:** R^2 = 0,73/0,68; RMSE = 96087,3; R^2 Validação Cruzada: 69,25%\n",
        "\n",
        "**REGRESSÃO POLINOMIAL:** R^2 = 0,59/0,54; RMSE = 114670,6.\n",
        "\n",
        "**REGRESSÃO SVR:** R^2 = 0,87/0,81; RMSE = 73422,7. R^2 Validação Cruzada: 82,37%.\n",
        "\n",
        "**REGRESSÃO ÁRVORE DE DECISÃO:** R^2 = 0,91/0,83; RMSE = 71114,5. R^2 Validação Cruzada: 74,60%.\n",
        "\n",
        "**REGRESSÃO COM RANDOM FOREST:** R^2 = 0,92/0,85; RMSE = 66729,3. R^2 Validação Cruzada: 82,85%.\n",
        "\n",
        "**REGRESSÃO COM XGBOOST:** R^2 = 0,93/0,84; RMSE = 67788,8. R^2 Validação Cruzada: 83,22%.\n",
        "\n",
        "**REGRESSÃO COM LIGHT GBM:** R^2 = 0,88/0,82; RMSE = 71906,4. R^2 Validação Cruzada: 82,38%."
      ]
    },
    {
      "cell_type": "markdown",
      "metadata": {
        "id": "gZsVtfKfQgCC"
      },
      "source": [
        "## **REGRESSÃO COM CATBOOST**"
      ]
    },
    {
      "cell_type": "markdown",
      "metadata": {
        "id": "5GPeGeg-VXsz"
      },
      "source": [
        "https://catboost.ai/en/docs/concepts/python-reference_catboostregressor "
      ]
    },
    {
      "cell_type": "code",
      "execution_count": null,
      "metadata": {
        "colab": {
          "base_uri": "https://localhost:8080/"
        },
        "id": "NuLKDgUGVXs0",
        "outputId": "62de0743-1791-446e-eae3-3c1734c60979"
      },
      "outputs": [],
      "source": [
        "#Instalação\n",
        "!pip install catboost"
      ]
    },
    {
      "cell_type": "code",
      "execution_count": null,
      "metadata": {
        "colab": {
          "base_uri": "https://localhost:8080/",
          "height": 112
        },
        "id": "ld2ULQzLVXs1",
        "outputId": "a8eb2563-e2d9-47f5-cc47-ecb26bd5da68"
      },
      "outputs": [],
      "source": [
        "df.head(2)"
      ]
    },
    {
      "cell_type": "code",
      "execution_count": null,
      "metadata": {
        "id": "1nReQ2gUVXs2"
      },
      "outputs": [],
      "source": [
        "independente = df.iloc[:, 0:3].values\n",
        "independente"
      ]
    },
    {
      "cell_type": "code",
      "execution_count": null,
      "metadata": {
        "colab": {
          "base_uri": "https://localhost:8080/"
        },
        "id": "rDPRCUFUVXs3",
        "outputId": "4c714f4d-0906-4a61-96a1-6001f8ad4e5c"
      },
      "outputs": [],
      "source": [
        "independente.shape"
      ]
    },
    {
      "cell_type": "code",
      "execution_count": null,
      "metadata": {
        "id": "v_vJst49VXs3"
      },
      "outputs": [],
      "source": [
        "dependente = df.iloc[:, 3].values"
      ]
    },
    {
      "cell_type": "code",
      "execution_count": null,
      "metadata": {
        "colab": {
          "base_uri": "https://localhost:8080/"
        },
        "id": "CuJFrX_1VXs4",
        "outputId": "fb116a84-3ae1-42b5-b594-da6b99f2a679"
      },
      "outputs": [],
      "source": [
        "dependente.shape"
      ]
    },
    {
      "cell_type": "code",
      "execution_count": null,
      "metadata": {
        "id": "ZiFMJQRNVXs4"
      },
      "outputs": [],
      "source": [
        "from sklearn.model_selection import train_test_split\n",
        "x_treino, x_teste, y_treino, y_teste = train_test_split(independente, dependente, test_size = 0.3, random_state = 0)"
      ]
    },
    {
      "cell_type": "code",
      "execution_count": null,
      "metadata": {
        "colab": {
          "base_uri": "https://localhost:8080/"
        },
        "id": "7S3QP4XEVXs5",
        "outputId": "5549db3e-b9fa-4bae-ce01-8b894992d848"
      },
      "outputs": [],
      "source": [
        "x_treino.shape, x_teste.shape"
      ]
    },
    {
      "cell_type": "code",
      "execution_count": null,
      "metadata": {
        "id": "Mvq49H8TVXs5"
      },
      "outputs": [],
      "source": [
        "from catboost.core import CatBoostRegressor"
      ]
    },
    {
      "cell_type": "code",
      "execution_count": null,
      "metadata": {
        "id": "ElgRHg_3VXs6"
      },
      "outputs": [],
      "source": [
        "catboost = CatBoostRegressor (iterations=100, learning_rate=0.08, depth = 5, random_state = 10)\n",
        "catboost.fit(x_treino, y_treino)"
      ]
    },
    {
      "cell_type": "code",
      "execution_count": null,
      "metadata": {
        "colab": {
          "base_uri": "https://localhost:8080/"
        },
        "id": "RYJLt365VXs6",
        "outputId": "839226bd-5533-4d87-891a-23a9843b4aba"
      },
      "outputs": [],
      "source": [
        "catboost.score(x_treino, y_treino)"
      ]
    },
    {
      "cell_type": "markdown",
      "metadata": {
        "id": "J0YqqCe_VXs7"
      },
      "source": [
        "**TESTE**"
      ]
    },
    {
      "cell_type": "code",
      "execution_count": null,
      "metadata": {
        "colab": {
          "base_uri": "https://localhost:8080/"
        },
        "id": "Kq3ufyL1VXs7",
        "outputId": "cb2168cb-a83c-4299-cf35-cde93a4ed4f3"
      },
      "outputs": [],
      "source": [
        "catboost.score(x_teste, y_teste)"
      ]
    },
    {
      "cell_type": "code",
      "execution_count": null,
      "metadata": {
        "id": "bbb2-5sqVXs8"
      },
      "outputs": [],
      "source": [
        "previsoes_teste = catboost.predict(x_teste)"
      ]
    },
    {
      "cell_type": "code",
      "execution_count": null,
      "metadata": {
        "colab": {
          "base_uri": "https://localhost:8080/"
        },
        "id": "rFXFPukcYZNe",
        "outputId": "7fa87afc-d83a-405d-b6df-0f4bfff0a4e0"
      },
      "outputs": [],
      "source": [
        "# Fazendo previsões para valores distintos\n",
        "valor_casa = catboost.predict([[5,18,20]])\n",
        "valor_casa"
      ]
    },
    {
      "cell_type": "markdown",
      "metadata": {
        "id": "pSBW-UoFVXs8"
      },
      "source": [
        "**MÉTRICAS**"
      ]
    },
    {
      "cell_type": "code",
      "execution_count": null,
      "metadata": {
        "id": "dUHUBMG5VXs9"
      },
      "outputs": [],
      "source": [
        "from sklearn.metrics import mean_absolute_error, mean_squared_error"
      ]
    },
    {
      "cell_type": "code",
      "execution_count": null,
      "metadata": {
        "colab": {
          "base_uri": "https://localhost:8080/"
        },
        "id": "lgn3ZatBVXs9",
        "outputId": "84ef62dc-45cb-47f7-cc3f-8271492846f9"
      },
      "outputs": [],
      "source": [
        "# Erro médio Absoluto\n",
        "mean_absolute_error(y_teste, previsoes_teste)"
      ]
    },
    {
      "cell_type": "code",
      "execution_count": null,
      "metadata": {
        "colab": {
          "base_uri": "https://localhost:8080/"
        },
        "id": "DewzTfdWVXs9",
        "outputId": "1cb50ae3-8fc5-49f5-b121-85d34b3648cb"
      },
      "outputs": [],
      "source": [
        "# Raiz do erro quadrático médio (RMSE)\n",
        "np.sqrt(mean_squared_error(y_teste, previsoes_teste))"
      ]
    },
    {
      "cell_type": "markdown",
      "metadata": {
        "id": "KPym0jypVXs-"
      },
      "source": [
        "### **Validação Cruzada**"
      ]
    },
    {
      "cell_type": "code",
      "execution_count": null,
      "metadata": {
        "id": "oZwUBh3_VXs-"
      },
      "outputs": [],
      "source": [
        "from sklearn.model_selection import KFold\n",
        "from sklearn.model_selection import cross_val_score"
      ]
    },
    {
      "cell_type": "code",
      "execution_count": null,
      "metadata": {
        "id": "gJMJ1x4bVXs_"
      },
      "outputs": [],
      "source": [
        "# Separando os dados em folds\n",
        "kfold = KFold(n_splits = 15, shuffle=True, random_state = 5)"
      ]
    },
    {
      "cell_type": "code",
      "execution_count": null,
      "metadata": {
        "id": "TUW6Frh8VXs_"
      },
      "outputs": [],
      "source": [
        "# Criando o modelo\n",
        "from catboost.core import CatBoostRegressor\n",
        "modelo = CatBoostRegressor (iterations=100, learning_rate=0.08, depth = 5, random_state = 10)\n",
        "resultado = cross_val_score(modelo, independente, dependente, cv = kfold)\n",
        "resultado"
      ]
    },
    {
      "cell_type": "code",
      "execution_count": null,
      "metadata": {
        "colab": {
          "base_uri": "https://localhost:8080/"
        },
        "id": "sRPAGvgQVXtA",
        "outputId": "8c50c1eb-2b59-4f2a-c3ac-37495a4dd1c9"
      },
      "outputs": [],
      "source": [
        "# Usamos a média e o desvio padrão\n",
        "print(\"Coeficiente de Determinação Médio: %.2f%%\" % (resultado.mean() * 100.0))"
      ]
    },
    {
      "cell_type": "markdown",
      "metadata": {
        "id": "7cwsGoINVXtA"
      },
      "source": [
        "**RESULTADOS:**\n",
        "\n",
        "**REGRESSÃO LINEAR SIMPLES:** R^2 = 0,57/0,60; RMSE = 99315,5; R^2 Validação Cruzada: 55,97%\n",
        "\n",
        "**REGRESSÃO LINEAR MÚLTIPLA:** R^2 = 0,73/0,68; RMSE = 96087,3; R^2 Validação Cruzada: 69,25%\n",
        "\n",
        "**REGRESSÃO POLINOMIAL:** R^2 = 0,59/0,54; RMSE = 114670,6.\n",
        "\n",
        "**REGRESSÃO SVR:** R^2 = 0,87/0,81; RMSE = 73422,7. R^2 Validação Cruzada: 82,37%.\n",
        "\n",
        "**REGRESSÃO ÁRVORE DE DECISÃO:** R^2 = 0,91/0,83; RMSE = 71114,5. R^2 Validação Cruzada: 74,60%.\n",
        "\n",
        "**REGRESSÃO COM RANDOM FOREST:** R^2 = 0,92/0,85; RMSE = 66729,3. R^2 Validação Cruzada: 82,85%.\n",
        "\n",
        "**REGRESSÃO COM XGBOOST:** R^2 = 0,93/0,84; RMSE = 67788,8. R^2 Validação Cruzada: 83,22%.\n",
        "\n",
        "**REGRESSÃO COM LIGHT GBM:** R^2 = 0,88/0,82; RMSE = 71906,4. R^2 Validação Cruzada: 82,38%.\n",
        "\n",
        "**REGRESSÃO COM CATBOOST:** R^2 = 0,90/0,84; RMSE = 69053,3 R^2 Validação Cruzada: 83,40%."
      ]
    },
    {
      "cell_type": "markdown",
      "metadata": {
        "id": "_n5ncFlgox69"
      },
      "source": []
    },
    {
      "cell_type": "markdown",
      "metadata": {
        "id": "-SI78UagmLD7"
      },
      "source": [
        "# **Salvando dados para Deploy**"
      ]
    },
    {
      "cell_type": "code",
      "execution_count": null,
      "metadata": {
        "colab": {
          "base_uri": "https://localhost:8080/"
        },
        "id": "iHM2TQfjbwf9",
        "outputId": "121607d5-7c87-4bd7-a2f8-1ba3c0367b5b"
      },
      "outputs": [],
      "source": [
        "independente = df.iloc[:, 0:3].values\n",
        "independente"
      ]
    },
    {
      "cell_type": "code",
      "execution_count": null,
      "metadata": {
        "id": "isSCWsMPDdw6"
      },
      "outputs": [],
      "source": [
        "dependente = df.iloc[:, 3].values\n",
        "dependente"
      ]
    },
    {
      "cell_type": "code",
      "execution_count": null,
      "metadata": {
        "id": "XUYRtI5VDBXF"
      },
      "outputs": [],
      "source": [
        "np.savetxt('independente.csv', independente, delimiter=',')"
      ]
    },
    {
      "cell_type": "code",
      "execution_count": null,
      "metadata": {
        "id": "dd7lbPU3DQFO"
      },
      "outputs": [],
      "source": [
        "np.savetxt('dependente.csv', dependente, delimiter=',')"
      ]
    }
  ],
  "metadata": {
    "colab": {
      "name": "regressao.ipynb",
      "provenance": []
    },
    "kernelspec": {
      "display_name": "Python 3",
      "name": "python3"
    },
    "language_info": {
      "codemirror_mode": {
        "name": "ipython",
        "version": 3
      },
      "file_extension": ".py",
      "mimetype": "text/x-python",
      "name": "python",
      "nbconvert_exporter": "python",
      "pygments_lexer": "ipython3",
      "version": "3.12.3"
    }
  },
  "nbformat": 4,
  "nbformat_minor": 0
}
